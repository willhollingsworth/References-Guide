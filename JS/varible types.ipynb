{
 "cells": [
  {
   "cell_type": "code",
   "execution_count": 18,
   "metadata": {},
   "outputs": [],
   "source": [
    "/*\n",
    "https://www.freecodecamp.org/news/javascript-variables-beginners-guide/\n",
    "https://www.w3schools.com/js/js_let.asp\n",
    "javascript has multiple \"scopes\"\n",
    "    - function scope : within a function \n",
    "    - block scope - within an if statement, use \"let varname = contents\"\n",
    "*/"
   ]
  },
  {
   "cell_type": "code",
   "execution_count": 19,
   "metadata": {},
   "outputs": [
    {
     "name": "stdout",
     "output_type": "stream",
     "text": [
      "success\n"
     ]
    }
   ],
   "source": [
    "var test1 = 'success'\n",
    "function testfunction1() { \n",
    "console.log(test1); }\n",
    "testfunction1();\n"
   ]
  },
  {
   "cell_type": "code",
   "execution_count": 20,
   "metadata": {},
   "outputs": [
    {
     "name": "stdout",
     "output_type": "stream",
     "text": [
      "failed as var \"test2\" can only be accessed inside it's own function\n"
     ]
    }
   ],
   "source": [
    "function testfunction2(){\n",
    "var test2 = 'success' }\n",
    "try { \n",
    "console.log('this will never activate',test2); \n",
    "} catch {\n",
    "console.log('failed as var \"test2\" can only be accessed inside it\\'s own function');}\n"
   ]
  },
  {
   "cell_type": "code",
   "execution_count": null,
   "metadata": {},
   "outputs": [],
   "source": []
  }
 ],
 "metadata": {
  "kernelspec": {
   "display_name": "Javascript (Node.js)",
   "language": "javascript",
   "name": "javascript"
  },
  "language_info": {
   "codemirror_mode": {
    "name": "ipython",
    "version": 3
   },
   "file_extension": ".py",
   "mimetype": "text/x-python",
   "name": "javascript",
   "nbconvert_exporter": "python",
   "pygments_lexer": "ipython3",
   "version": 3
  },
  "orig_nbformat": 2
 },
 "nbformat": 4,
 "nbformat_minor": 2
}
