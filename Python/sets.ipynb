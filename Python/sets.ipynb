{
 "cells": [
  {
   "attachments": {},
   "cell_type": "markdown",
   "metadata": {},
   "source": [
    "https://realpython.com/python-sets/"
   ]
  },
  {
   "attachments": {},
   "cell_type": "markdown",
   "metadata": {},
   "source": [
    "sets can be used to remove duplicated values"
   ]
  },
  {
   "cell_type": "code",
   "execution_count": 2,
   "metadata": {},
   "outputs": [
    {
     "name": "stdout",
     "output_type": "stream",
     "text": [
      "{1, 2, 3, 4}\n",
      "{'s', 'b', 'r', 'e', 'm'}\n"
     ]
    }
   ],
   "source": [
    "l1 = [1,2,3,4,1,2,3,4]\n",
    "print(set(l1))\n",
    "print(set('members'))"
   ]
  },
  {
   "cell_type": "code",
   "execution_count": 13,
   "metadata": {},
   "outputs": [
    {
     "name": "stdout",
     "output_type": "stream",
     "text": [
      "{1, 2, 3, 4} {3, 4, 5, 6, 7}\n",
      "sets can be combined {1, 2, 3, 4, 5, 6, 7}\n",
      "items unique to s1 {1, 2}\n",
      "items shared between sets {3, 4}\n",
      "items NOT shared between sets {1, 2, 5, 6, 7}\n"
     ]
    }
   ],
   "source": [
    "s1 = {1,2,3,4,1,2,1,3}\n",
    "s2 = {3,3,4,5,6,7}\n",
    "print(s1,s2)\n",
    "print('sets can be combined',s1.union(s2))\n",
    "print('items unique to s1',s1.difference(s2))\n",
    "print('items shared between sets',s1.intersection(s2))\n",
    "print('items NOT shared between sets',s1.symmetric_difference(s2))"
   ]
  }
 ],
 "metadata": {
  "kernelspec": {
   "display_name": "Python 3",
   "language": "python",
   "name": "python3"
  },
  "language_info": {
   "codemirror_mode": {
    "name": "ipython",
    "version": 3
   },
   "file_extension": ".py",
   "mimetype": "text/x-python",
   "name": "python",
   "nbconvert_exporter": "python",
   "pygments_lexer": "ipython3",
   "version": "3.7.1"
  },
  "orig_nbformat": 4
 },
 "nbformat": 4,
 "nbformat_minor": 2
}
