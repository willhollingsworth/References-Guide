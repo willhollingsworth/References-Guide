{
 "metadata": {
  "language_info": {
   "codemirror_mode": {
    "name": "ipython",
    "version": 3
   },
   "file_extension": ".py",
   "mimetype": "text/x-python",
   "name": "python",
   "nbconvert_exporter": "python",
   "pygments_lexer": "ipython3",
   "version": "3.7.1-final"
  },
  "orig_nbformat": 2,
  "kernelspec": {
   "name": "python3",
   "display_name": "Python 3.7.1 64-bit",
   "metadata": {
    "interpreter": {
     "hash": "871c30085e2c26d19d4878869f886a7ab8c07eba25d7154353bbb906c305cbb2"
    }
   }
  }
 },
 "nbformat": 4,
 "nbformat_minor": 2,
 "cells": [
  {
   "source": [
    "https://www.programiz.com/python-programming/methods/list/sort\n",
    "https://stackoverflow.com/questions/18563680/sorting-2d-list-python/18564382"
   ],
   "cell_type": "markdown",
   "metadata": {}
  },
  {
   "cell_type": "code",
   "execution_count": 54,
   "metadata": {},
   "outputs": [
    {
     "output_type": "stream",
     "name": "stdout",
     "text": [
      "[2, 8, 9, 5, 1]\n"
     ]
    }
   ],
   "source": [
    "#create random list of numbers\n",
    "import random\n",
    "l =  random.sample(range(1,10),5)\n",
    "print(l)"
   ]
  },
  {
   "cell_type": "code",
   "execution_count": 55,
   "metadata": {},
   "outputs": [
    {
     "output_type": "stream",
     "name": "stdout",
     "text": [
      "[1, 2, 5, 8, 9]\n"
     ]
    }
   ],
   "source": [
    "#sort the list\n",
    "l.sort()\n",
    "print(l)"
   ]
  },
  {
   "cell_type": "code",
   "execution_count": 56,
   "metadata": {},
   "outputs": [
    {
     "output_type": "stream",
     "name": "stdout",
     "text": [
      "[(1, 12), (2, 9), (5, 6), (8, 11), (9, 8)]\n"
     ]
    }
   ],
   "source": [
    "#create 2d list \n",
    "l2 = random.sample(range(5,15),5)\n",
    "l3 = list(zip(l,l2))\n",
    "print(list(l3))"
   ]
  },
  {
   "cell_type": "code",
   "execution_count": 57,
   "metadata": {},
   "outputs": [
    {
     "output_type": "stream",
     "name": "stdout",
     "text": [
      "[(5, 6), (9, 8), (2, 9), (8, 11), (1, 12)]\n"
     ]
    }
   ],
   "source": [
    "#sort 2d list by second element\n",
    "l4 = sorted(l3,key=lambda x:x[1])\n",
    "print(l4)"
   ]
  },
  {
   "cell_type": "code",
   "execution_count": null,
   "metadata": {},
   "outputs": [],
   "source": []
  }
 ]
}