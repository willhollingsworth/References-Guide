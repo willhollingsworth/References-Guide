{
 "cells": [
  {
   "attachments": {},
   "cell_type": "markdown",
   "metadata": {},
   "source": [
    "### F strings\n",
    "https://www.geeksforgeeks.org/formatted-string-literals-f-strings-python/\n",
    "\n",
    "https://realpython.com/python-f-strings/\n"
   ]
  },
  {
   "cell_type": "code",
   "execution_count": 3,
   "metadata": {},
   "outputs": [
    {
     "name": "stdout",
     "output_type": "stream",
     "text": [
      "str: a ,int: 3 ,float: 1.76\n",
      "6.67 gnirts_tset \n"
     ]
    }
   ],
   "source": [
    "v1,v2,v3 = ('a',3,1.76)\n",
    "print(f'str: {v1} ,int: {v2} ,float: {v3}')\n",
    "t_str = \"test_string\"\n",
    "print(f'{round(20/3,2)} {t_str[::-1]} ')"
   ]
  }
 ],
 "metadata": {
  "kernelspec": {
   "display_name": "Python 3",
   "language": "python",
   "name": "python3"
  },
  "language_info": {
   "codemirror_mode": {
    "name": "ipython",
    "version": 3
   },
   "file_extension": ".py",
   "mimetype": "text/x-python",
   "name": "python",
   "nbconvert_exporter": "python",
   "pygments_lexer": "ipython3",
   "version": "3.9.0"
  },
  "orig_nbformat": 4
 },
 "nbformat": 4,
 "nbformat_minor": 2
}
