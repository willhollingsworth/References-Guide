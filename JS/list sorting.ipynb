{
 "cells": [
  {
   "cell_type": "markdown",
   "metadata": {},
   "source": [
    "https://www.w3schools.com/jsref/jsref_sort.asp\n",
    "\n",
    "https://www.javascripttutorial.net/javascript-array-sort/"
   ]
  },
  {
   "cell_type": "code",
   "execution_count": 14,
   "metadata": {},
   "outputs": [
    {
     "name": "stdout",
     "output_type": "stream",
     "text": [
      "works only due to single digit numbers [ 1, 2, 3, 4 ]\n"
     ]
    }
   ],
   "source": [
    "test_list = [4,3,2,1] ; test_list.sort()\n",
    "console.log('works only due to single digit numbers',test_list)"
   ]
  },
  {
   "cell_type": "code",
   "execution_count": 15,
   "metadata": {},
   "outputs": [
    {
     "name": "stdout",
     "output_type": "stream",
     "text": [
      "method fails as it only factors in first char [ 111, 22, 3 ]\n"
     ]
    }
   ],
   "source": [
    "tl2 = [22,111,3] ; tl2.sort()\n",
    "console.log('method fails as it only factors in first char',tl2)"
   ]
  },
  {
   "cell_type": "code",
   "execution_count": 16,
   "metadata": {},
   "outputs": [
    {
     "name": "stdout",
     "output_type": "stream",
     "text": [
      "this sort method works [ 3, 22, 111 ]\n"
     ]
    }
   ],
   "source": [
    "tl2.sort((a, b) => a - b);\n",
    "console.log('this sort method works',tl2)"
   ]
  },
  {
   "cell_type": "code",
   "execution_count": 22,
   "metadata": {},
   "outputs": [
    {
     "name": "stdout",
     "output_type": "stream",
     "text": [
      "sort based on the second value [ [ 4, 1 ], [ 3, 2 ], [ 1, 3 ] ]\n",
      "sort based on the first value [ [ 1, 3 ], [ 3, 2 ], [ 4, 1 ] ]\n"
     ]
    }
   ],
   "source": [
    "two_d_list = [[1,3],[4,1],[3,2]]\n",
    "two_d_list.sort((a, b) => a[1] - b[1]);\n",
    "console.log('sort based on the second value',two_d_list)\n",
    "two_d_list.sort((a, b) => a[0] - b[0]);\n",
    "console.log('sort based on the first value',two_d_list)"
   ]
  }
 ],
 "metadata": {
  "kernelspec": {
   "display_name": "Javascript (Node.js)",
   "language": "javascript",
   "name": "javascript"
  },
  "language_info": {
   "file_extension": ".js",
   "mimetype": "application/javascript",
   "name": "javascript",
   "version": "12.19.0"
  },
  "orig_nbformat": 4
 },
 "nbformat": 4,
 "nbformat_minor": 2
}
