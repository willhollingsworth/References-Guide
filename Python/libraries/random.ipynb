{
 "cells": [
  {
   "cell_type": "markdown",
   "metadata": {},
   "source": [
    "https://www.programiz.com/python-programming/modules/random"
   ]
  },
  {
   "cell_type": "code",
   "execution_count": 9,
   "metadata": {},
   "outputs": [],
   "source": [
    "import random"
   ]
  },
  {
   "cell_type": "code",
   "execution_count": 10,
   "metadata": {},
   "outputs": [
    {
     "name": "stdout",
     "output_type": "stream",
     "text": [
      "Print a random float between 0 to 1  : 0.824632612424878\n"
     ]
    }
   ],
   "source": [
    "print('Print a random float between 0 to 1  :' , random.random() )"
   ]
  },
  {
   "cell_type": "code",
   "execution_count": 11,
   "metadata": {},
   "outputs": [
    {
     "name": "stdout",
     "output_type": "stream",
     "text": [
      "Print a random int :   1\n"
     ]
    }
   ],
   "source": [
    "print('Print a random int :  ',random.randint(1,10))"
   ]
  },
  {
   "cell_type": "code",
   "execution_count": 12,
   "metadata": {},
   "outputs": [
    {
     "name": "stdout",
     "output_type": "stream",
     "text": [
      "choose a random item :   a\n"
     ]
    }
   ],
   "source": [
    "test_list = ['a','b','c','d']\n",
    "print('choose a random item :  ',random.choice(test_list)  )"
   ]
  },
  {
   "cell_type": "code",
   "execution_count": 13,
   "metadata": {},
   "outputs": [
    {
     "name": "stdout",
     "output_type": "stream",
     "text": [
      "populate a list with random items    ['b', 'd', 'b', 'd', 'a', 'a', 'c', 'b', 'd', 'c']\n"
     ]
    }
   ],
   "source": [
    "random_list = []\n",
    "for x in range(10):\n",
    "    random_list.append(random.choice(test_list))\n",
    "print('populate a list with random items   ', random_list)"
   ]
  },
  {
   "cell_type": "code",
   "execution_count": 14,
   "metadata": {},
   "outputs": [
    {
     "name": "stdout",
     "output_type": "stream",
     "text": [
      "list comp method of above ['c', 'c', 'b', 'd', 'b', 'c', 'd', 'a', 'd', 'b']\n"
     ]
    }
   ],
   "source": [
    "random_list2 = [random.choice(test_list) for x in range(10)]\n",
    "print('list comp method of above', random_list2)"
   ]
  }
 ],
 "metadata": {
  "interpreter": {
   "hash": "63fd5069d213b44bf678585dea6b12cceca9941eaf7f819626cde1f2670de90d"
  },
  "kernelspec": {
   "display_name": "Python 3.7.1 64-bit",
   "language": "python",
   "name": "python3"
  },
  "language_info": {
   "codemirror_mode": {
    "name": "ipython",
    "version": 3
   },
   "file_extension": ".py",
   "mimetype": "text/x-python",
   "name": "python",
   "nbconvert_exporter": "python",
   "pygments_lexer": "ipython3",
   "version": "3.9.0"
  },
  "orig_nbformat": 2
 },
 "nbformat": 4,
 "nbformat_minor": 2
}
