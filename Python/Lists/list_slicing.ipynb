{
 "cells": [
  {
   "cell_type": "code",
   "execution_count": 1,
   "metadata": {},
   "outputs": [],
   "source": [
    "l1 = [1,2,3,4,5,6]"
   ]
  },
  {
   "cell_type": "code",
   "execution_count": 14,
   "metadata": {},
   "outputs": [
    {
     "name": "stdout",
     "output_type": "stream",
     "text": [
      "first 3 [1, 2, 3]\n",
      "last 3 [4, 5, 6]\n",
      "middle [3, 4]\n",
      "odds [1, 3, 5]\n",
      "evens [2, 4, 6]\n",
      "reversed [6, 5, 4, 3, 2, 1]\n",
      "reverse evens [6, 4, 2]\n"
     ]
    }
   ],
   "source": [
    "print('first 3',l1[:3])\n",
    "print('last 3',l1[-3:])\n",
    "print('middle',l1[2:4])\n",
    "print('odds',l1[::2])\n",
    "print('evens',l1[1::2])\n",
    "print('reversed',l1[::-1])\n",
    "print('reverse evens',l1[::-2])"
   ]
  }
 ],
 "metadata": {
  "kernelspec": {
   "display_name": "Python 3",
   "language": "python",
   "name": "python3"
  },
  "language_info": {
   "codemirror_mode": {
    "name": "ipython",
    "version": 3
   },
   "file_extension": ".py",
   "mimetype": "text/x-python",
   "name": "python",
   "nbconvert_exporter": "python",
   "pygments_lexer": "ipython3",
   "version": "3.9.0"
  },
  "orig_nbformat": 4
 },
 "nbformat": 4,
 "nbformat_minor": 2
}
