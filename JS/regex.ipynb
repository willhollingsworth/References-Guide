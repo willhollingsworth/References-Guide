{
 "cells": [
  {
   "cell_type": "code",
   "execution_count": 8,
   "metadata": {},
   "outputs": [
    {
     "data": {
      "text/plain": [
       "true"
      ]
     },
     "execution_count": 8,
     "metadata": {},
     "output_type": "execute_result"
    }
   ],
   "source": [
    "var test_String = 'this is a string';\n",
    "var test_r_expression = /is/;\n",
    "test_r_expression.test(test_String)"
   ]
  },
  {
   "cell_type": "code",
   "execution_count": 9,
   "metadata": {},
   "outputs": [
    {
     "name": "stdout",
     "output_type": "stream",
     "text": [
      "alternative layout - true\n",
      "match for a or b - true\n",
      "case insensitive match - true\n"
     ]
    }
   ],
   "source": [
    "console.log('alternative layout -',       /is/.test('this is a string')   ); \n",
    "console.log('match for a or b -',         /a|b/.test('this is a string')  );\n",
    "console.log('case insensitive match -',   /A/i.test('this is a string')   );"
   ]
  },
  {
   "cell_type": "code",
   "execution_count": 10,
   "metadata": {},
   "outputs": [
    {
     "name": "stdout",
     "output_type": "stream",
     "text": [
      "single match - [ 'e', index: 1, input: 'red rover', groups: undefined ]\n",
      "multi match - [ 'e', 'e' ]\n"
     ]
    }
   ],
   "source": [
    "console.log('single match -',      'red rover'.match(/e/)  )   \n",
    "console.log('multi match -',       'red rover'.match(/e/g) )"
   ]
  },
  {
   "cell_type": "code",
   "execution_count": 11,
   "metadata": {},
   "outputs": [
    {
     "name": "stdout",
     "output_type": "stream",
     "text": [
      "single char wildcard match - [ 'fun', 'pun', 'run' ]\n",
      "match certain chars - [ 'fun', 'run' ]\n",
      "match range of chars - [ 'c', 'd', 'e', 'f' ]\n",
      "match range of chars - [\n",
      "  'a', 'b', 'e',\n",
      "  'f', 'g', '2',\n",
      "  '3', '4'\n",
      "]\n"
     ]
    }
   ],
   "source": [
    "console.log('single char wildcard match -',       'fun pun run'.match(/.un/g))\n",
    "console.log('match certain chars -',       'fun pun run'.match(/[fr]un/g))\n",
    "console.log('match range of chars -',       'abcdefg'.match(/[c-f]/g))\n",
    "console.log('match range of chars -',       'abcdefg12345'.match(/[a-be-g2-4]/g))"
   ]
  },
  {
   "cell_type": "code",
   "execution_count": 12,
   "metadata": {},
   "outputs": [
    {
     "name": "stdout",
     "output_type": "stream",
     "text": [
      "match everything but certain chars - [ 'a', 'e', 'f', 'g' ]\n",
      "match one or more of specified char - [ 'aa', 'a', 'aaa' ]\n",
      "match zero or more of specified char - [ 'red', 'rd' ]\n",
      "match zero or more of specified char - [ 'red', 'rd' ]\n"
     ]
    }
   ],
   "source": [
    "console.log('match everything but certain chars -',          'abcdefg'.match(/[^b-d]/g))\n",
    "console.log('match one or more of specified char -',         'aabacdaaa'.match(/a+/g))\n",
    "console.log('match zero or more of specified char -',         'red rd'.match(/re*d/g))\n",
    "console.log('match zero or more of specified char -',         'red rd'.match(/re*d/g))"
   ]
  },
  {
   "cell_type": "code",
   "execution_count": 13,
   "metadata": {},
   "outputs": [
    {
     "name": "stdout",
     "output_type": "stream",
     "text": [
      "normal match will try to match largest possible aka greedy - [ 'redreeed' ]\n",
      "can be changed to lazy matching  - [ 'red', 'reeed' ]\n",
      "match only starting red  - [ 'red' ]\n",
      "match only ending  red  - [ 'red' ]\n"
     ]
    }
   ],
   "source": [
    "console.log('normal match will try to match largest possible aka greedy -',     'redreeed'.match(/r[a-z]*d/g))\n",
    "console.log('can be changed to lazy matching  -',                               'redreeed'.match(/r[a-z]*?d/g))\n",
    "console.log('match only starting red  -',                                       'red red'.match(/^red/g))\n",
    "console.log('match only ending  red  -',                                        'red red'.match(/red$/g))"
   ]
  },
  {
   "cell_type": "code",
   "execution_count": 14,
   "metadata": {},
   "outputs": [
    {
     "name": "stdout",
     "output_type": "stream",
     "text": [
      "/w can be used instead of a-zA-Z0-9_       10     10\n"
     ]
    }
   ],
   "source": [
    "console.log('/\\w can be used instead of a-zA-Z0-9_      ',     'abcABC123_'.match(/[a-zA-Z0-9_]/g).length,'   ',     'abcABC123_'.match(/\\w/g).length)\n",
    "\n"
   ]
  }
 ],
 "metadata": {
  "kernelspec": {
   "display_name": "Javascript (Node.js)",
   "language": "javascript",
   "name": "javascript"
  },
  "language_info": {
   "file_extension": ".js",
   "mimetype": "application/javascript",
   "name": "javascript",
   "version": "12.19.0"
  },
  "orig_nbformat": 4
 },
 "nbformat": 4,
 "nbformat_minor": 2
}
