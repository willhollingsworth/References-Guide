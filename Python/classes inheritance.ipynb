{
 "cells": [
  {
   "cell_type": "markdown",
   "metadata": {},
   "source": [
    "- https://www.digitalocean.com/community/tutorials/understanding-class-inheritance-in-python-3\n",
    "- https://www.programiz.com/python-programming/inheritance\n",
    "- https://www.w3schools.com/python/python_inheritance.asp\n",
    "- https://www.python-course.eu/python3_inheritance.php"
   ]
  }
 ],
 "metadata": {
  "language_info": {
   "name": "python"
  },
  "orig_nbformat": 4
 },
 "nbformat": 4,
 "nbformat_minor": 2
}
