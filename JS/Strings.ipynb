{
 "cells": [
  {
   "cell_type": "markdown",
   "metadata": {},
   "source": [
    "https://www.w3schools.com/jsref/jsref_obj_string.asp"
   ]
  },
  {
   "cell_type": "code",
   "execution_count": 13,
   "metadata": {},
   "outputs": [],
   "source": [
    "var ts1 = \"This is a string\";\n",
    "var ts2 = \"Heres another string\";"
   ]
  },
  {
   "cell_type": "code",
   "execution_count": 14,
   "metadata": {},
   "outputs": [
    {
     "name": "stdout",
     "output_type": "stream",
     "text": [
      "ts1 length is 16\n",
      "joining strings with concat \" This is a stringHeres another string \"\n"
     ]
    }
   ],
   "source": [
    "console.log('ts1 length is',ts1.length);\n",
    "console.log('joining strings with concat \"',ts1.concat(ts2),'\"');"
   ]
  },
  {
   "cell_type": "code",
   "execution_count": 15,
   "metadata": {},
   "outputs": [
    {
     "name": "stdout",
     "output_type": "stream",
     "text": [
      "replace one \" \" > \"-\"   This-is a string\n",
      "replace All \" \" > \"-\"   This-is-a-string\n"
     ]
    }
   ],
   "source": [
    "// https://www.w3schools.com/jsref/jsref_replace.asp\n",
    "console.log('replace one \" \" > \"-\"  ',ts1.replace(\" \",\"-\"))\n",
    "console.log('replace All \" \" > \"-\"  ',ts1.replace(/ /g,\"-\")) // match all"
   ]
  },
  {
   "cell_type": "code",
   "execution_count": 16,
   "metadata": {},
   "outputs": [
    {
     "name": "stdout",
     "output_type": "stream",
     "text": [
      "grab a section of a string then uppercase it -  THI\n"
     ]
    }
   ],
   "source": [
    "console.log('grab a section of a string then uppercase it - ',ts1.slice(0,3).toUpperCase())"
   ]
  },
  {
   "cell_type": "code",
   "execution_count": 1,
   "metadata": {},
   "outputs": [
    {
     "data": {
      "text/plain": [
       "[ 'this', 'is', 'a', 'string' ]"
      ]
     },
     "execution_count": 1,
     "metadata": {},
     "output_type": "execute_result"
    }
   ],
   "source": [
    "'this is a string'.split(' ')"
   ]
  },
  {
   "cell_type": "code",
   "execution_count": 17,
   "metadata": {},
   "outputs": [
    {
     "name": "stdout",
     "output_type": "stream",
     "text": [
      "match single \"is\" with details  -   [ 'is', index: 2, input: 'This is a string', groups: undefined ]\n",
      "match for \"is\"  -   [ 'is', 'is' ]\n",
      "match all t's case insensitive  -   [ 'T', 't' ]\n",
      "match all vowels case insensitive  -   [ 'i', 'i', 'a', 'i' ]\n"
     ]
    }
   ],
   "source": [
    "console.log('match single \"is\" with details  -  ',ts1.match('is'))\n",
    "console.log('match for \"is\"  -  ',ts1.match(/is/g))\n",
    "console.log('match all t\\'s case insensitive  -  ',ts1.match(/t/gi))\n",
    "console.log('match all vowels case insensitive  -  ',ts1.match(/[aeiou]/gi))"
   ]
  },
  {
   "cell_type": "code",
   "execution_count": 10,
   "metadata": {},
   "outputs": [
    {
     "name": "stdout",
     "output_type": "stream",
     "text": [
      "[ 'split this ', ' string up' ]\n",
      "slicing\n"
     ]
    }
   ],
   "source": [
    "console.log('split this one string up'.split('one'))\n",
    "console.log('slicing up strings'.slice(0,7))"
   ]
  }
 ],
 "metadata": {
  "kernelspec": {
   "display_name": "Javascript (Node.js)",
   "language": "javascript",
   "name": "javascript"
  },
  "language_info": {
   "file_extension": ".js",
   "mimetype": "application/javascript",
   "name": "javascript",
   "version": "12.19.0"
  }
 },
 "nbformat": 4,
 "nbformat_minor": 2
}
