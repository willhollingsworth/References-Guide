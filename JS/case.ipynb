{
 "cells": [
  {
   "cell_type": "code",
   "execution_count": null,
   "metadata": {},
   "outputs": [],
   "source": []
  },
  {
   "cell_type": "code",
   "execution_count": 7,
   "metadata": {},
   "outputs": [],
   "source": [
    "function casetester(val){\n",
    "    switch (val) {\n",
    "        case -2:\n",
    "        case -1:\n",
    "            return ' negative';\n",
    "            break;\n",
    "        case 0:\n",
    "            return ' zero';\n",
    "            break;\n",
    "        case 1:\n",
    "        case 2:\n",
    "            return ' positive';\n",
    "            break;\n",
    "        default:\n",
    "            return ' unsure';\n",
    "            break;\n",
    "    }\n",
    "}\n"
   ]
  },
  {
   "cell_type": "code",
   "execution_count": 8,
   "metadata": {},
   "outputs": [
    {
     "name": "stdout",
     "output_type": "stream",
     "text": [
      " negative\n"
     ]
    }
   ],
   "source": [
    "console.log(casetester(-1));"
   ]
  },
  {
   "cell_type": "code",
   "execution_count": null,
   "metadata": {},
   "outputs": [],
   "source": []
  }
 ],
 "metadata": {
  "kernelspec": {
   "display_name": "Javascript (Node.js)",
   "language": "javascript",
   "name": "javascript"
  },
  "language_info": {
   "file_extension": ".js",
   "mimetype": "application/javascript",
   "name": "javascript",
   "version": "12.19.0"
  },
  "orig_nbformat": 2
 },
 "nbformat": 4,
 "nbformat_minor": 2
}
