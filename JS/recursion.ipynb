{
 "cells": [
  {
   "cell_type": "code",
   "execution_count": 6,
   "metadata": {},
   "outputs": [
    {
     "name": "stdout",
     "output_type": "stream",
     "text": [
      "[ 1, 2, 3, 4, 5 ]\n"
     ]
    }
   ],
   "source": [
    "/*https://www.freecodecamp.org/learn/javascript-algorithms-and-data-structures/basic-javascript/use-recursion-to-create-a-countdown\n",
    "\n",
    "  a recursive function that returns an array containing the numbers 1 through n\n",
    "*/\n",
    "function count_up(n) {\n",
    "  if (n < 1) {\n",
    "    return [];\n",
    "  } else {\n",
    "    const countArray = count_up(n - 1);\n",
    "    countArray.push(n);\n",
    "    return countArray;\n",
    "  }\n",
    "}\n",
    "console.log(count_up(5));"
   ]
  },
  {
   "cell_type": "code",
   "execution_count": 3,
   "metadata": {},
   "outputs": [
    {
     "name": "stdout",
     "output_type": "stream",
     "text": [
      "[ 4, 5, 6 ]\n"
     ]
    }
   ],
   "source": [
    "function rangeOfNumbers(startNum, endNum) {\n",
    "if (endNum <= startNum){\n",
    "    return [];\n",
    "} else {\n",
    "    var oList = rangeOfNumbers(startNum, endNum - 1);\n",
    "    oList.push(endNum);\n",
    "    return oList;\n",
    "}};\n",
    "console.log(rangeOfNumbers(3,6));"
   ]
  },
  {
   "cell_type": "code",
   "execution_count": null,
   "metadata": {},
   "outputs": [],
   "source": []
  }
 ],
 "metadata": {
  "kernelspec": {
   "display_name": "Javascript (Node.js)",
   "language": "javascript",
   "name": "javascript"
  },
  "language_info": {
   "file_extension": ".js",
   "mimetype": "application/javascript",
   "name": "javascript",
   "version": "12.19.0"
  },
  "orig_nbformat": 2
 },
 "nbformat": 4,
 "nbformat_minor": 2
}
