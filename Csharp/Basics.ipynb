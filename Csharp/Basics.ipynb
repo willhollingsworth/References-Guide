{
 "cells": [
  {
   "cell_type": "code",
   "execution_count": 76,
   "id": "4b647af5",
   "metadata": {
    "dotnet_interactive": {
     "language": "csharp"
    },
    "polyglot_notebook": {
     "kernelName": "csharp"
    },
    "vscode": {
     "languageId": "polyglot-notebook"
    }
   },
   "outputs": [
    {
     "name": "stdout",
     "output_type": "stream",
     "text": [
      "Simple print statement\r\n"
     ]
    }
   ],
   "source": [
    "Console.WriteLine(\"Simple print statement\");"
   ]
  },
  {
   "cell_type": "code",
   "execution_count": 77,
   "id": "cbc29608",
   "metadata": {
    "dotnet_interactive": {
     "language": "csharp"
    },
    "polyglot_notebook": {
     "kernelName": "csharp"
    },
    "vscode": {
     "languageId": "polyglot-notebook"
    }
   },
   "outputs": [
    {
     "name": "stdout",
     "output_type": "stream",
     "text": [
      "pass\r\n"
     ]
    }
   ],
   "source": [
    "double num1 = 2;\n",
    "if (num1 > 1)\n",
    "{\n",
    "   Console.WriteLine(\"pass\");\n",
    "    \n",
    "}\n",
    "else\n",
    "{\n",
    "    Console.WriteLine(\"fail\");\n",
    "}"
   ]
  },
  {
   "cell_type": "code",
   "execution_count": 78,
   "id": "614b94e7",
   "metadata": {
    "dotnet_interactive": {
     "language": "csharp"
    },
    "polyglot_notebook": {
     "kernelName": "csharp"
    },
    "vscode": {
     "languageId": "polyglot-notebook"
    }
   },
   "outputs": [
    {
     "data": {
      "text/plain": [
       "two"
      ]
     },
     "metadata": {},
     "output_type": "display_data"
    }
   ],
   "source": [
    "switch (num1)\n",
    "{\n",
    "    case 1:\n",
    "        msg = \"one\";\n",
    "        break;\n",
    "    case 2:\n",
    "        msg = \"two\";\n",
    "        break;  \n",
    "    default:\n",
    "        msg = \"3\";\n",
    "        break;\n",
    "}\n",
    "msg"
   ]
  },
  {
   "cell_type": "code",
   "execution_count": 79,
   "id": "c69d6789",
   "metadata": {
    "dotnet_interactive": {
     "language": "csharp"
    },
    "polyglot_notebook": {
     "kernelName": "csharp"
    },
    "vscode": {
     "languageId": "polyglot-notebook"
    }
   },
   "outputs": [
    {
     "name": "stdout",
     "output_type": "stream",
     "text": [
      "turned msg into an int\r\n"
     ]
    }
   ],
   "source": [
    "int num2;\n",
    "string msg = \"1\";\n",
    "try\n",
    "{\n",
    "    num2 = int.Parse(msg);\n",
    "    Console.WriteLine(\"turned msg into an int\");\n",
    "}\n",
    "catch\n",
    "{\n",
    "    Console.WriteLine(\"Can't turn msg into an int\"); \n",
    "}\n"
   ]
  },
  {
   "cell_type": "code",
   "execution_count": 80,
   "id": "362810f6",
   "metadata": {
    "vscode": {
     "languageId": "polyglot-notebook"
    }
   },
   "outputs": [],
   "source": [
    "public void CheckNumber(int input){\n",
    "int limit = 5;\n",
    "if (input > 0 && input < limit){\n",
    "    Console.WriteLine(input.ToString() + \" is within bounds\");\n",
    "}\n",
    "else \n",
    "{\n",
    "    Console.WriteLine(input.ToString() + \" is out of bounds\");\n",
    "}}"
   ]
  },
  {
   "cell_type": "code",
   "execution_count": 81,
   "id": "5bc5081e",
   "metadata": {
    "vscode": {
     "languageId": "polyglot-notebook"
    }
   },
   "outputs": [
    {
     "name": "stdout",
     "output_type": "stream",
     "text": [
      "2 is within bounds\n",
      "6 is out of bounds\n",
      "-1 is out of bounds\n"
     ]
    }
   ],
   "source": [
    "CheckNumber(2);\n",
    "CheckNumber(6);\n",
    "CheckNumber(-1);"
   ]
  }
 ],
 "metadata": {
  "kernelspec": {
   "display_name": ".NET (C#)",
   "language": "C#",
   "name": ".net-csharp"
  },
  "language_info": {
   "file_extension": ".cs",
   "mimetype": "text/x-csharp",
   "name": "C#",
   "pygments_lexer": "csharp",
   "version": "12.0"
  },
  "polyglot_notebook": {
   "kernelInfo": {
    "defaultKernelName": "csharp",
    "items": [
     {
      "aliases": [],
      "name": "csharp"
     }
    ]
   }
  }
 },
 "nbformat": 4,
 "nbformat_minor": 5
}
