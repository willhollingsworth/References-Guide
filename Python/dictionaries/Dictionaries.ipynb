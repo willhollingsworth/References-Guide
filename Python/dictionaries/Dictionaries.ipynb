{
 "cells": [
  {
   "cell_type": "markdown",
   "metadata": {},
   "source": [
    "- https://www.programiz.com/python-programming/dictionary\n",
    "- https://realpython.com/python-dicts/\n",
    "- https://www.w3schools.com/python/python_dictionaries.asp"
   ]
  },
  {
   "cell_type": "code",
   "execution_count": 38,
   "metadata": {},
   "outputs": [
    {
     "data": {
      "text/plain": [
       "''"
      ]
     },
     "execution_count": 38,
     "metadata": {},
     "output_type": "execute_result"
    }
   ],
   "source": [
    "'''Method\tDescription\n",
    "clear()\tRemoves all the elements from the dictionary    \n",
    "copy()\tReturns a copy of the dictionary    \n",
    "fromkeys()\tReturns a dictionary with the specified keys and value  \n",
    "get()\tReturns the value of the specified key  \n",
    "items()\tReturns a list containing a tuple for each key value pair   \n",
    "keys()\tReturns a list containing the dictionary's keys \n",
    "pop()\tRemoves the element with the specified key  \n",
    "popitem()\tRemoves the last inserted key-value pair    \n",
    "setdefault()\tReturns the value of the specified key. If the key does not exist: insert the key, with the specified value \n",
    "update()\tUpdates the dictionary with the specified key-value pairs   \n",
    "values()\tReturns a list of all the values in the dictionary''' \n",
    "''   "
   ]
  },
  {
   "cell_type": "code",
   "execution_count": 39,
   "metadata": {
    "tags": []
   },
   "outputs": [
    {
     "name": "stdout",
     "output_type": "stream",
     "text": [
      "Access items by key : red green\n"
     ]
    }
   ],
   "source": [
    "sample_dict = {'one':'red','two':'blue','three':'green'}\n",
    "print('Access items by key :',sample_dict['one'],sample_dict['three'])"
   ]
  },
  {
   "cell_type": "code",
   "execution_count": 40,
   "metadata": {
    "tags": []
   },
   "outputs": [
    {
     "name": "stdout",
     "output_type": "stream",
     "text": [
      "list of keys ['one', 'two', 'three']\n",
      "list of values ['red', 'blue', 'green']\n",
      "list of key values [('one', 'red'), ('two', 'blue'), ('three', 'green')]\n",
      "unpack k:v pairs ['one - red', 'two - blue', 'three - green']\n"
     ]
    }
   ],
   "source": [
    "print('list of keys', [ k for k in sample_dict.keys()])\n",
    "print('list of values', [ k for k in sample_dict.values()])\n",
    "print('list of key values', [ k for k in sample_dict.items()])\n",
    "print('unpack k:v pairs', [ f'{k} - {v}' for k,v in sample_dict.items()])\n"
   ]
  },
  {
   "cell_type": "code",
   "execution_count": 41,
   "metadata": {
    "tags": []
   },
   "outputs": [],
   "source": [
    "sample_dict['four'] = 'purple' #add a item\n",
    "del sample_dict['one'] # delete an item"
   ]
  },
  {
   "cell_type": "code",
   "execution_count": 42,
   "metadata": {
    "tags": []
   },
   "outputs": [
    {
     "name": "stdout",
     "output_type": "stream",
     "text": [
      "different syntax :  {'a': 'aaa', 'b': 'bbb', 'c': 'ccc'}\n"
     ]
    }
   ],
   "source": [
    "dict_constructor = dict(a='aaa',b='bbb',c='ccc')\n",
    "print('different syntax : ',dict_constructor)"
   ]
  }
 ],
 "metadata": {
  "kernelspec": {
   "display_name": "Python 3.7.1 64-bit",
   "metadata": {
    "interpreter": {
     "hash": "871c30085e2c26d19d4878869f886a7ab8c07eba25d7154353bbb906c305cbb2"
    }
   },
   "name": "python3"
  },
  "language_info": {
   "codemirror_mode": {
    "name": "ipython",
    "version": 3
   },
   "file_extension": ".py",
   "mimetype": "text/x-python",
   "name": "python",
   "nbconvert_exporter": "python",
   "pygments_lexer": "ipython3",
   "version": "3.9.0"
  },
  "orig_nbformat": 2
 },
 "nbformat": 4,
 "nbformat_minor": 2
}
