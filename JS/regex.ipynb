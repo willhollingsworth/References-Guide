{
 "cells": [
  {
   "cell_type": "code",
   "execution_count": 43,
   "metadata": {},
   "outputs": [
    {
     "data": {
      "text/plain": [
       "true"
      ]
     },
     "execution_count": 43,
     "metadata": {},
     "output_type": "execute_result"
    }
   ],
   "source": [
    "var test_String = 'this is a string';\n",
    "var test_r_expression = /is/;\n",
    "test_r_expression.test(test_String)"
   ]
  },
  {
   "cell_type": "code",
   "execution_count": 44,
   "metadata": {},
   "outputs": [
    {
     "name": "stdout",
     "output_type": "stream",
     "text": [
      "alternative layout - true\n",
      "match for a or b - true\n",
      "case insensitive match - true\n"
     ]
    }
   ],
   "source": [
    "console.log('alternative layout -',       /is/.test('this is a string')   ); \n",
    "console.log('match for a or b -',         /a|b/.test('this is a string')  );\n",
    "console.log('case insensitive match -',   /A/i.test('this is a string')   );"
   ]
  },
  {
   "cell_type": "code",
   "execution_count": 45,
   "metadata": {},
   "outputs": [
    {
     "name": "stdout",
     "output_type": "stream",
     "text": [
      "single match - [ 'e', index: 1, input: 'red rover', groups: undefined ]\n",
      "multi match - [ 'e', 'e' ]\n"
     ]
    }
   ],
   "source": [
    "console.log('single match -',      'red rover'.match(/e/)  )   \n",
    "console.log('multi match -',       'red rover'.match(/e/g) )"
   ]
  },
  {
   "cell_type": "code",
   "execution_count": 56,
   "metadata": {},
   "outputs": [
    {
     "name": "stdout",
     "output_type": "stream",
     "text": [
      "single char wildcard match - [ 'fun', 'pun', 'run' ]\n",
      "match certain chars - [ 'fun', 'run' ]\n",
      "match range of chars - [ 'c', 'd', 'e', 'f' ]\n",
      "match range of chars - [\n",
      "  'a', 'b', 'e',\n",
      "  'f', 'g', '2',\n",
      "  '3', '4'\n",
      "]\n"
     ]
    }
   ],
   "source": [
    "console.log('single char wildcard match -',       'fun pun run'.match(/.un/g))\n",
    "console.log('match certain chars -',       'fun pun run'.match(/[fr]un/g))\n",
    "console.log('match range of chars -',       'abcdefg'.match(/[c-f]/g))\n",
    "console.log('match range of chars -',       'abcdefg12345'.match(/[a-be-g2-4]/g))"
   ]
  },
  {
   "cell_type": "code",
   "execution_count": 59,
   "metadata": {},
   "outputs": [
    {
     "name": "stdout",
     "output_type": "stream",
     "text": [
      "match everything but certain chars - [ 'a', 'e', 'f', 'g' ]\n",
      "match everything but certain chars - [ 'aa', 'a', 'aaa' ]\n"
     ]
    }
   ],
   "source": [
    "console.log('match everything but certain chars -',          'abcdefg'.match(/[^b-d]/g))\n",
    "console.log('match one or more of specified char -',         'aabacdaaa'.match(/a+/g))\n"
   ]
  }
 ],
 "metadata": {
  "kernelspec": {
   "display_name": "Javascript (Node.js)",
   "language": "javascript",
   "name": "javascript"
  },
  "language_info": {
   "file_extension": ".js",
   "mimetype": "application/javascript",
   "name": "javascript",
   "version": "12.19.0"
  },
  "orig_nbformat": 4
 },
 "nbformat": 4,
 "nbformat_minor": 2
}
