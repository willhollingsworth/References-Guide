{
 "cells": [
  {
   "cell_type": "markdown",
   "metadata": {},
   "source": [
    "https://www.w3schools.com/js/js_loop_for.asp\n",
    "https://developer.mozilla.org/en-US/docs/Web/JavaScript/Reference/Statements/for...of"
   ]
  },
  {
   "cell_type": "code",
   "execution_count": 4,
   "metadata": {},
   "outputs": [
    {
     "data": {
      "text/plain": [
       "[ 0, 1, 2, 3, 4 ]"
      ]
     },
     "execution_count": 4,
     "metadata": {},
     "output_type": "execute_result"
    }
   ],
   "source": [
    "// https://stackoverflow.com/questions/49984471/javascript-multiple-variable-assignment-in-one-line\n",
    "empty_list = []\n",
    "for ( i of [...Array(5).keys()])    // create a range 0-4 and loop over it\n",
    "    empty_list.push(i)\n",
    "empty_list"
   ]
  },
  {
   "cell_type": "code",
   "execution_count": 1,
   "metadata": {},
   "outputs": [
    {
     "name": "stdout",
     "output_type": "stream",
     "text": [
      "0\n",
      "1\n",
      "2\n"
     ]
    }
   ],
   "source": [
    "//for loops contains 3 settings\n",
    "// first is start i=0\n",
    "// second is the end i<5, while true\n",
    "// third is code executed per iteration\n",
    "for ( i = 0; i < 3; i++ ) {   \n",
    "console.log(i);\n",
    "}"
   ]
  },
  {
   "cell_type": "code",
   "execution_count": 2,
   "metadata": {},
   "outputs": [
    {
     "name": "stdout",
     "output_type": "stream",
     "text": [
      "0\n",
      "1\n",
      "2\n"
     ]
    }
   ],
   "source": [
    "// all statements can be excluded and defined before or during\n",
    "i = 0\n",
    "for (;;){\n",
    "    console.log(i);\n",
    "    i++;\n",
    "    if (i > 2)\n",
    "        {break;}}"
   ]
  },
  {
   "cell_type": "code",
   "execution_count": 3,
   "metadata": {},
   "outputs": [
    {
     "name": "stdout",
     "output_type": "stream",
     "text": [
      "running loops on arrays\n",
      "5\n",
      "4\n",
      "3\n",
      "2\n"
     ]
    }
   ],
   "source": [
    "console.log('running loops on arrays');\n",
    "var array1 =[5,4,3,2];\n",
    "for (x of array1) {\n",
    "    console.log(x); }"
   ]
  },
  {
   "cell_type": "code",
   "execution_count": 4,
   "metadata": {},
   "outputs": [
    {
     "name": "stdout",
     "output_type": "stream",
     "text": [
      "alterantive method for looping over array\n",
      "i = 0 , array item = 5\n",
      "i = 1 , array item = 4\n",
      "i = 2 , array item = 3\n",
      "i = 3 , array item = 2\n"
     ]
    }
   ],
   "source": [
    "console.log('alternative method for looping over array');\n",
    "for (i=0; i < array1.length; i++) {   \n",
    "console.log('i =',i,', array item =',array1[i]); }"
   ]
  },
  {
   "cell_type": "code",
   "execution_count": 5,
   "metadata": {},
   "outputs": [
    {
     "name": "stdout",
     "output_type": "stream",
     "text": [
      "running nestled loops using single line logging - 1a, 1b, 1c, 1d, 1e, 2a, 2b, 2c, 2d, 2e, 3a, 3b, 3c, 3d, 3e, 4a, 4b, 4c, 4d, 4e, 5a, 5b, 5c, 5d, 5e, \n"
     ]
    }
   ],
   "source": [
    "var a1 = [1,2,3,4,5]; var a2 = ['a', 'b', 'c', 'd', 'e']; var log = '' \n",
    "for (x of a1){\n",
    "    for (y of a2){\n",
    "    log += x+y+', '\n",
    "    }}\n",
    "console.log('running nestled loops using single line logging -',log)"
   ]
  },
  {
   "cell_type": "code",
   "execution_count": 6,
   "metadata": {},
   "outputs": [
    {
     "name": "stdout",
     "output_type": "stream",
     "text": [
      "while loop 1, 2, 3, 4, 5, \n"
     ]
    }
   ],
   "source": [
    "var a3 = ''; i=0;\n",
    "while (i<5){\n",
    "i++; a3+= i+', '; }\n",
    "console.log('while loop',a3);"
   ]
  }
 ],
 "metadata": {
  "kernelspec": {
   "display_name": "Javascript (Node.js)",
   "language": "javascript",
   "name": "javascript"
  },
  "language_info": {
   "file_extension": ".js",
   "mimetype": "application/javascript",
   "name": "javascript",
   "version": "12.19.0"
  },
  "orig_nbformat": 2
 },
 "nbformat": 4,
 "nbformat_minor": 2
}
