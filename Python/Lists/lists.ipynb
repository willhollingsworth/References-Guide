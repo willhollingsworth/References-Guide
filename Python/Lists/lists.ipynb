{
 "cells": [
  {
   "cell_type": "code",
   "execution_count": 2,
   "metadata": {},
   "outputs": [
    {
     "data": {
      "text/plain": [
       "\"\\nhttps://www.programiz.com/python-programming/list\\nhttps://www.w3schools.com/python/python_lists.asp\\n\\nPython List Methods\\nappend() - Add an element to the end of the list\\ninsert() - Insert an item at the defined index\\nremove() - Removes an item by it's value\\ndel list[x] or [x:x] - Remove an item/s by it's index\\nextend() - Add all elements of a list to the another list\\npop() - Removes and returns an element at the given index\\nclear() - Removes all items from the list\\nindex() - Returns the index of the first matched item\\ncount() - Returns the count of the number of items passed as an argument\\nsort() - Sort items in a list in ascending order\\nreverse() - Reverse the order of items in the list\\ncopy() - Returns a shallow copy of the list\\n\""
      ]
     },
     "execution_count": 2,
     "metadata": {},
     "output_type": "execute_result"
    }
   ],
   "source": [
    "'''\n",
    "https://www.programiz.com/python-programming/list\n",
    "https://www.w3schools.com/python/python_lists.asp\n",
    "\n",
    "Python List Methods\n",
    "append() - Add an element to the end of the list\n",
    "insert() - Insert an item at the defined index\n",
    "remove() - Removes an item by it's value\n",
    "del list[x] or [x:x] - Remove an item/s by it's index\n",
    "extend() - Add all elements of a list to the another list\n",
    "pop() - Removes and returns an element at the given index\n",
    "clear() - Removes all items from the list\n",
    "index() - Returns the index of the first matched item\n",
    "count() - Returns the count of the number of items passed as an argument\n",
    "sort() - Sort items in a list in ascending order\n",
    "reverse() - Reverse the order of items in the list\n",
    "copy() - Returns a shallow copy of the list\n",
    "'''\n"
   ]
  },
  {
   "cell_type": "code",
   "execution_count": 3,
   "metadata": {},
   "outputs": [],
   "source": [
    "testlist = [1,2,3]"
   ]
  },
  {
   "cell_type": "code",
   "execution_count": 4,
   "metadata": {
    "tags": []
   },
   "outputs": [
    {
     "name": "stdout",
     "output_type": "stream",
     "text": [
      "add to list [1, 2, 3, 4]\n",
      "count of 3 is 1\n"
     ]
    }
   ],
   "source": [
    "testlist.append(4)\n",
    "print('add to list',testlist)\n",
    "print('count of 3 is',testlist.count(3))"
   ]
  },
  {
   "cell_type": "code",
   "execution_count": 5,
   "metadata": {},
   "outputs": [
    {
     "data": {
      "text/plain": [
       "[1, 3, 4]"
      ]
     },
     "execution_count": 5,
     "metadata": {},
     "output_type": "execute_result"
    }
   ],
   "source": [
    "testlist.pop(1)\n",
    "testlist"
   ]
  },
  {
   "cell_type": "code",
   "execution_count": 6,
   "metadata": {},
   "outputs": [
    {
     "data": {
      "text/plain": [
       "[1, 4]"
      ]
     },
     "execution_count": 6,
     "metadata": {},
     "output_type": "execute_result"
    }
   ],
   "source": [
    "testlist.remove(3)\n",
    "testlist"
   ]
  },
  {
   "cell_type": "code",
   "execution_count": 7,
   "metadata": {
    "tags": []
   },
   "outputs": [
    {
     "name": "stdout",
     "output_type": "stream",
     "text": [
      "3 3 3 "
     ]
    }
   ],
   "source": [
    "testlist2 = [1,2,3,4,5,1,1,2,3,2,3]\n",
    "def return_entries(list,search_value):\n",
    "    for x in range(list.count(search_value)):  #iterate over number of instances found\n",
    "        print(list.pop(list.index(search_value)),end=' ')\n",
    "return_entries(testlist2,3)"
   ]
  },
  {
   "cell_type": "code",
   "execution_count": 8,
   "metadata": {},
   "outputs": [
    {
     "data": {
      "text/plain": [
       "[1, 4]"
      ]
     },
     "execution_count": 8,
     "metadata": {},
     "output_type": "execute_result"
    }
   ],
   "source": [
    "testlist"
   ]
  },
  {
   "cell_type": "code",
   "execution_count": null,
   "metadata": {},
   "outputs": [],
   "source": []
  }
 ],
 "metadata": {
  "kernelspec": {
   "display_name": "Python 3.7.1 64-bit",
   "metadata": {
    "interpreter": {
     "hash": "871c30085e2c26d19d4878869f886a7ab8c07eba25d7154353bbb906c305cbb2"
    }
   },
   "name": "python3"
  },
  "language_info": {
   "codemirror_mode": {
    "name": "ipython",
    "version": 3
   },
   "file_extension": ".py",
   "mimetype": "text/x-python",
   "name": "python",
   "nbconvert_exporter": "python",
   "pygments_lexer": "ipython3",
   "version": "3.9.0"
  },
  "orig_nbformat": 2
 },
 "nbformat": 4,
 "nbformat_minor": 2
}
