{
 "cells": [
  {
   "cell_type": "code",
   "execution_count": 2,
   "metadata": {},
   "outputs": [],
   "source": [
    "from datetime import datetime\n",
    "import time"
   ]
  },
  {
   "cell_type": "code",
   "execution_count": 2,
   "metadata": {
    "tags": []
   },
   "outputs": [
    {
     "name": "stdout",
     "output_type": "stream",
     "text": [
      "datetime.now = 2021-05-15 17:13:01.938855\n",
      "datetime.strftime = 17:13:01\n",
      "datetime.strftime = 15/05/2021 17:13:01 938855\n"
     ]
    }
   ],
   "source": [
    "now = datetime.now()\n",
    "print('datetime.now =',now)\n",
    "print('datetime.strftime =',now.strftime(\"%H:%M:%S\"))\n",
    "print('datetime.strftime =',now.strftime(\"%d/%m/%Y %H:%M:%S %f\"))"
   ]
  },
  {
   "cell_type": "code",
   "execution_count": 3,
   "metadata": {},
   "outputs": [
    {
     "name": "stdout",
     "output_type": "stream",
     "text": [
      "8:31:06 <class 'str'>\n",
      "1900-01-01 08:31:06 <class 'datetime.datetime'>\n"
     ]
    }
   ],
   "source": [
    "# converting from strings into time, useful for applying maths to time (subtraction or additions)\n",
    "string_var = '8:31:06'\n",
    "print(string_var,type(string_var))\n",
    "time_var = datetime.strptime(string_var,'%H:%M:%S')\n",
    "print(time_var, type(time_var))"
   ]
  },
  {
   "cell_type": "code",
   "execution_count": 4,
   "metadata": {},
   "outputs": [
    {
     "data": {
      "text/plain": [
       "'08:31:06'"
      ]
     },
     "execution_count": 4,
     "metadata": {},
     "output_type": "execute_result"
    }
   ],
   "source": [
    "# converting from time to strings\n",
    "# https://www.programiz.com/python-programming/datetime/current-datetime\n",
    "time_var.strftime('%H:%M:%S')"
   ]
  },
  {
   "cell_type": "code",
   "execution_count": 5,
   "metadata": {},
   "outputs": [
    {
     "name": "stdout",
     "output_type": "stream",
     "text": [
      "time.strftime = 17:13:02\n",
      "time.localtime = time.struct_time(tm_year=2021, tm_mon=5, tm_mday=15, tm_hour=17, tm_min=13, tm_sec=2, tm_wday=5, tm_yday=135, tm_isdst=0)\n",
      "time.strptime :  time.struct_time(tm_year=2019, tm_mon=3, tm_mday=1, tm_hour=0, tm_min=0, tm_sec=0, tm_wday=4, tm_yday=60, tm_isdst=-1)\n",
      "convert seconds into time tuple :  time.struct_time(tm_year=1970, tm_mon=1, tm_mday=1, tm_hour=0, tm_min=1, tm_sec=0, tm_wday=3, tm_yday=1, tm_isdst=0)\n",
      "convert seconds into h:m:s :  00:01:30\n"
     ]
    }
   ],
   "source": [
    "print('time.strftime =',time.strftime(\"%H:%M:%S\", time.localtime()))\n",
    "print('time.localtime =',time.localtime())\n",
    "print('time.strptime : ',time.strptime('2019-03-01', '%Y-%m-%d'))\n",
    "print('convert seconds into time tuple : ',time.gmtime(60))\n",
    "print('convert seconds into h:m:s : ',time.strftime('%H:%M:%S',(time.gmtime(90))))"
   ]
  },
  {
   "cell_type": "code",
   "execution_count": 4,
   "metadata": {},
   "outputs": [
    {
     "name": "stdout",
     "output_type": "stream",
     "text": [
      "time elapsed 1.2006916999816895 seconds\n"
     ]
    }
   ],
   "source": [
    "now = time.time()\n",
    "time.sleep(1.2)\n",
    "print('time elapsed',time.time() - now,'seconds')"
   ]
  }
 ],
 "metadata": {
  "kernelspec": {
   "display_name": "Python 3",
   "language": "python",
   "name": "python3"
  },
  "language_info": {
   "codemirror_mode": {
    "name": "ipython",
    "version": 3
   },
   "file_extension": ".py",
   "mimetype": "text/x-python",
   "name": "python",
   "nbconvert_exporter": "python",
   "pygments_lexer": "ipython3",
   "version": "3.9.0"
  },
  "orig_nbformat": 2
 },
 "nbformat": 4,
 "nbformat_minor": 2
}
