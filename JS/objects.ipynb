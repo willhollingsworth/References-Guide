{
 "cells": [
  {
   "cell_type": "markdown",
   "metadata": {},
   "source": [
    "JS objects seem very similar to python dictionaries"
   ]
  },
  {
   "cell_type": "code",
   "execution_count": 8,
   "metadata": {},
   "outputs": [],
   "source": [
    "//initial creation of test object aka tob\n",
    "var tob = {\n",
    "  \"hats\": 5,\n",
    "  \"shirts\": 3,\n",
    "  \"shoes\": 6\n",
    "};"
   ]
  },
  {
   "cell_type": "code",
   "execution_count": 9,
   "metadata": {},
   "outputs": [
    {
     "name": "stdout",
     "output_type": "stream",
     "text": [
      "inital object { hats: 5, shirts: 3, shoes: 6 }\n",
      "reading values  5 6 3\n",
      "changing values  55 33\n",
      "adding item  { hats: 55, shirts: 33, shoes: 6, pants: 9 }\n",
      "deleting item  { shirts: 33, shoes: 6, pants: 9 }\n",
      "check if items exist  true false\n"
     ]
    }
   ],
   "source": [
    "console.log('initial object',tob)\n",
    "console.log('reading values ', tob.hats,  tob.shoes, tob['shirts']);\n",
    "\n",
    "tob.hats = 55; tob['shirts'] = 33;\n",
    "console.log('changing values ', tob['hats'],tob.shirts)\n",
    "\n",
    "tob.pants = 9\n",
    "console.log('adding item ',tob)\n",
    "\n",
    "delete tob.hats;\n",
    "console.log('deleting item ',tob)\n",
    "\n",
    "console.log('check if items exist ', tob.hasOwnProperty('shirts'), tob.hasOwnProperty('socks'))"
   ]
  },
  {
   "cell_type": "code",
   "execution_count": 10,
   "metadata": {},
   "outputs": [
    {
     "name": "stdout",
     "output_type": "stream",
     "text": [
      "multi layer values { '99': 88 }\n",
      "{ '55': 33 }     green\n"
     ]
    }
   ],
   "source": [
    "var bigobj = {'a':{1:2,2:3,4:{99:88}},\n",
    "'b':{7:6,5:4,3:{55:33},'blue':'green'}}\n",
    "console.log('multi layer values',bigobj.a[4])\n",
    "console.log(bigobj['b'][3], '   ' ,bigobj.b.blue)"
   ]
  }
 ],
 "metadata": {
  "kernelspec": {
   "display_name": "Javascript (Node.js)",
   "language": "javascript",
   "name": "javascript"
  },
  "language_info": {
   "codemirror_mode": {
    "name": "ipython",
    "version": 3
   },
   "file_extension": ".py",
   "mimetype": "text/x-python",
   "name": "javascript",
   "nbconvert_exporter": "python",
   "pygments_lexer": "ipython3",
   "version": 3
  },
  "orig_nbformat": 2
 },
 "nbformat": 4,
 "nbformat_minor": 2
}
