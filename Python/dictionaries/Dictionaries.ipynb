{
 "cells": [
  {
   "cell_type": "markdown",
   "metadata": {},
   "source": [
    "- https://www.programiz.com/python-programming/dictionary\n",
    "- https://realpython.com/python-dicts/\n",
    "- https://www.w3schools.com/python/python_dictionaries.asp"
   ]
  },
  {
   "cell_type": "code",
   "execution_count": 14,
   "metadata": {},
   "outputs": [
    {
     "data": {
      "text/plain": [
       "''"
      ]
     },
     "execution_count": 14,
     "metadata": {},
     "output_type": "execute_result"
    }
   ],
   "source": [
    "'''Method\tDescription\n",
    "clear()\tRemoves all the elements from the dictionary    \n",
    "copy()\tReturns a copy of the dictionary    \n",
    "fromkeys()\tReturns a dictionary with the specified keys and value  \n",
    "get()\tReturns the value of the specified key  \n",
    "items()\tReturns a list containing a tuple for each key value pair   \n",
    "keys()\tReturns a list containing the dictionary's keys \n",
    "pop()\tRemoves the element with the specified key  \n",
    "popitem()\tRemoves the last inserted key-value pair    \n",
    "setdefault()\tReturns the value of the specified key. If the key does not exist: insert the key, with the specified value \n",
    "update()\tUpdates the dictionary with the specified key-value pairs   \n",
    "values()\tReturns a list of all the values in the dictionary''' \n",
    "''   "
   ]
  },
  {
   "cell_type": "code",
   "execution_count": 15,
   "metadata": {
    "tags": []
   },
   "outputs": [
    {
     "name": "stdout",
     "output_type": "stream",
     "text": [
      "Access items by key : red green\n"
     ]
    }
   ],
   "source": [
    "sample_dict = {'one':'red','two':'blue','three':'green'}\n",
    "print('Access items by key :',sample_dict['one'],sample_dict['three'])"
   ]
  },
  {
   "cell_type": "code",
   "execution_count": 16,
   "metadata": {
    "tags": []
   },
   "outputs": [
    {
     "name": "stdout",
     "output_type": "stream",
     "text": [
      "loop over keys  -  one two three "
     ]
    }
   ],
   "source": [
    "print('loop over keys', end='  -  ')\n",
    "for x in sample_dict.keys():\n",
    "    print(x,end=' ')"
   ]
  },
  {
   "cell_type": "code",
   "execution_count": 17,
   "metadata": {
    "tags": []
   },
   "outputs": [
    {
     "name": "stdout",
     "output_type": "stream",
     "text": [
      "loop over values  -  red, blue, green, "
     ]
    }
   ],
   "source": [
    "print('loop over values', end='  -  ')\n",
    "for x in sample_dict.values():\n",
    "    print(x,end=', ')"
   ]
  },
  {
   "cell_type": "code",
   "execution_count": 18,
   "metadata": {
    "tags": []
   },
   "outputs": [
    {
     "name": "stdout",
     "output_type": "stream",
     "text": [
      "loop over keys and values    - \n",
      "one : red, two : blue, three : green, "
     ]
    }
   ],
   "source": [
    "print('loop over keys and values    - ')\n",
    "for x, y in sample_dict.items():\n",
    "  print(x,':', y, end=', ')"
   ]
  },
  {
   "cell_type": "code",
   "execution_count": 19,
   "metadata": {
    "tags": []
   },
   "outputs": [
    {
     "name": "stdout",
     "output_type": "stream",
     "text": [
      "add items {'one': 'red', 'two': 'blue', 'three': 'green', 'four': 'purple'}\n"
     ]
    }
   ],
   "source": [
    "sample_dict['four'] = 'purple'\n",
    "print('add items',sample_dict)"
   ]
  },
  {
   "cell_type": "code",
   "execution_count": 20,
   "metadata": {
    "tags": []
   },
   "outputs": [
    {
     "name": "stdout",
     "output_type": "stream",
     "text": [
      "remove items {'two': 'blue', 'three': 'green', 'four': 'purple'}\n"
     ]
    }
   ],
   "source": [
    "del sample_dict['one']\n",
    "print('remove items',sample_dict)"
   ]
  },
  {
   "cell_type": "code",
   "execution_count": 21,
   "metadata": {
    "tags": []
   },
   "outputs": [
    {
     "name": "stdout",
     "output_type": "stream",
     "text": [
      "nicer syntax :  {'a': 'aaa', 'b': 'bbb', 'c': 'ccc'}\n"
     ]
    }
   ],
   "source": [
    "dict_constructor = dict(a='aaa',b='bbb',c='ccc')\n",
    "print('different syntax : ',dict_constructor)"
   ]
  },
  {
   "cell_type": "code",
   "execution_count": 22,
   "metadata": {
    "tags": []
   },
   "outputs": [
    {
     "name": "stdout",
     "output_type": "stream",
     "text": [
      "lists in dicts : {'one': ['a', 'b'], 'two': ['x', 'y']}\n"
     ]
    }
   ],
   "source": [
    "dict_lists = {'one':['a','b'],'two':['x','y']}\n",
    "print('lists in dicts :',dict_lists)"
   ]
  },
  {
   "cell_type": "code",
   "execution_count": 23,
   "metadata": {
    "tags": []
   },
   "outputs": [
    {
     "name": "stdout",
     "output_type": "stream",
     "text": [
      "adding items to lists in dicts : {'one': ['a', 'b', 'c'], 'two': ['x', 'y']}\n"
     ]
    }
   ],
   "source": [
    "dict_lists['one'].append('c')\n",
    "print('adding items to lists in dicts :',dict_lists)"
   ]
  }
 ],
 "metadata": {
  "kernelspec": {
   "display_name": "Python 3.7.1 64-bit",
   "metadata": {
    "interpreter": {
     "hash": "871c30085e2c26d19d4878869f886a7ab8c07eba25d7154353bbb906c305cbb2"
    }
   },
   "name": "python3"
  },
  "language_info": {
   "codemirror_mode": {
    "name": "ipython",
    "version": 3
   },
   "file_extension": ".py",
   "mimetype": "text/x-python",
   "name": "python",
   "nbconvert_exporter": "python",
   "pygments_lexer": "ipython3",
   "version": "3.9.0"
  },
  "orig_nbformat": 2
 },
 "nbformat": 4,
 "nbformat_minor": 2
}
