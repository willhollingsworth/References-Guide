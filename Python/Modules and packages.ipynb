{
 "cells": [
  {
   "attachments": {},
   "cell_type": "markdown",
   "metadata": {},
   "source": [
    "\n",
    "https://docs.python.org/3/tutorial/modules.html#intra-package-references\n",
    "\n",
    "https://realpython.com/python-application-layouts/\n",
    "https://realpython.com/python-modules-packages/\n",
    "https://docs.python-guide.org/writing/structure/\n",
    "https://medium.com/mlearning-ai/a-practical-guide-to-python-project-structure-and-packaging-90c7f7a04f95\n",
    "\n",
    "\n",
    "https://github.com/navdeep-G/samplemod/tree/master\n",
    "https://stackoverflow.com/questions/14132789/relative-imports-for-the-billionth-time/14132912#14132912"
   ]
  },
  {
   "cell_type": "code",
   "execution_count": null,
   "metadata": {},
   "outputs": [],
   "source": [
    "''' workaround for sub module problems https://note.nkmk.me/en/python-import-module-search-path/'''\n",
    "if __name__ == '__main__':\n",
    "    ''' add parent dir or parent's parent dir to the path, \n",
    "    allowing sub modules to load each other'''\n",
    "    import sys\n",
    "    from os.path import dirname\n",
    "    dir = __file__\n",
    "    for i in range(2):\n",
    "        dir = dirname(dir)\n",
    "    sys.path.append(dir) "
   ]
  }
 ],
 "metadata": {
  "kernelspec": {
   "display_name": "Python 3",
   "language": "python",
   "name": "python3"
  },
  "language_info": {
   "codemirror_mode": {
    "name": "ipython",
    "version": 3
   },
   "file_extension": ".py",
   "mimetype": "text/x-python",
   "name": "python",
   "nbconvert_exporter": "python",
   "pygments_lexer": "ipython3",
   "version": "3.9.0"
  },
  "orig_nbformat": 4
 },
 "nbformat": 4,
 "nbformat_minor": 2
}
