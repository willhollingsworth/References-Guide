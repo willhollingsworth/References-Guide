{
 "cells": [
  {
   "attachments": {},
   "cell_type": "markdown",
   "metadata": {},
   "source": []
  },
  {
   "cell_type": "code",
   "execution_count": 74,
   "metadata": {},
   "outputs": [
    {
     "name": "stdout",
     "output_type": "stream",
     "text": [
      "lists can be unpacked with a * : [1, 2] to 1 2\n",
      "also tuples: (3, 4) to 3 4\n"
     ]
    }
   ],
   "source": [
    "print('lists can be unpacked with a * :', l1:=[1,2], 'to', *l1)\n",
    "print('also tuples:', t1:=(3,4),'to',*t1)"
   ]
  },
  {
   "cell_type": "code",
   "execution_count": 78,
   "metadata": {},
   "outputs": [
    {
     "name": "stdout",
     "output_type": "stream",
     "text": [
      "allows function a variable number of arguments\n",
      "(<class 'tuple'>, (1, 2)) (<class 'tuple'>, (1, 2, 3, 4))\n"
     ]
    }
   ],
   "source": [
    "print('allows function a variable number of arguments')\n",
    "def star_unpack(*args) : return type(args),args\n",
    "print(star_unpack(1,2),star_unpack(1,2,3,4))"
   ]
  },
  {
   "cell_type": "code",
   "execution_count": 76,
   "metadata": {},
   "outputs": [
    {
     "name": "stdout",
     "output_type": "stream",
     "text": [
      "dict unpacking with ** lets a dict change to a key=value pair\n",
      "can be used in a dict or function\n",
      "{1: 2, 3: 4} to {1: 2, 3: 4, 5: 6}\n"
     ]
    }
   ],
   "source": [
    "print('dict unpacking with ** lets a dict change to a key=value pair')\n",
    "print('can be used in a dict or function')\n",
    "print(old:={1:2,3:4},'to',{**old,5:6})"
   ]
  },
  {
   "cell_type": "code",
   "execution_count": 77,
   "metadata": {},
   "outputs": [
    {
     "name": "stdout",
     "output_type": "stream",
     "text": [
      "dict -> key value pair -> function : (1, 2)\n"
     ]
    }
   ],
   "source": [
    "def two_arg_func(a,b) : return a,b\n",
    "print('dict -> key value pair -> function :', two_arg_func(**{'a':1,'b':2}))"
   ]
  }
 ],
 "metadata": {
  "kernelspec": {
   "display_name": "Python 3",
   "language": "python",
   "name": "python3"
  },
  "language_info": {
   "codemirror_mode": {
    "name": "ipython",
    "version": 3
   },
   "file_extension": ".py",
   "mimetype": "text/x-python",
   "name": "python",
   "nbconvert_exporter": "python",
   "pygments_lexer": "ipython3",
   "version": "3.9.0"
  },
  "orig_nbformat": 4
 },
 "nbformat": 4,
 "nbformat_minor": 2
}
