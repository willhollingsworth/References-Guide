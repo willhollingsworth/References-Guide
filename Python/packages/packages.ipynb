{
 "cells": [
  {
   "attachments": {},
   "cell_type": "markdown",
   "metadata": {},
   "source": [
    "resources for structuring packages\n",
    "\n",
    "https://realpython.com/python-application-layouts/\n",
    "https://realpython.com/python-modules-packages/\n",
    "https://docs.python-guide.org/writing/structure/\n",
    "https://medium.com/mlearning-ai/a-practical-guide-to-python-project-structure-and-packaging-90c7f7a04f95\n",
    "\n",
    "\n",
    "https://github.com/navdeep-G/samplemod/tree/master\n",
    "\n"
   ]
  }
 ],
 "metadata": {
  "language_info": {
   "name": "python"
  },
  "orig_nbformat": 4
 },
 "nbformat": 4,
 "nbformat_minor": 2
}
