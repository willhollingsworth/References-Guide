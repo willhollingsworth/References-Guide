{
 "cells": [
  {
   "cell_type": "code",
   "execution_count": 30,
   "metadata": {},
   "outputs": [],
   "source": [
    "from sqlite_connector import sql_return_html as sql"
   ]
  },
  {
   "cell_type": "markdown",
   "metadata": {},
   "source": [
    "A series of SQL queries using DBeavers built in SQLite database "
   ]
  },
  {
   "cell_type": "code",
   "execution_count": 31,
   "metadata": {},
   "outputs": [
    {
     "data": {
      "text/html": [
       "<table border=\"1\" class=\"dataframe\">\n",
       "  <thead>\n",
       "    <tr style=\"text-align: right;\">\n",
       "      <th>GenreId</th>\n",
       "      <th>Name</th>\n",
       "    </tr>\n",
       "  </thead>\n",
       "  <tbody>\n",
       "    <tr>\n",
       "      <td>1</td>\n",
       "      <td>Rock</td>\n",
       "    </tr>\n",
       "    <tr>\n",
       "      <td>2</td>\n",
       "      <td>Jazz</td>\n",
       "    </tr>\n",
       "    <tr>\n",
       "      <td>3</td>\n",
       "      <td>Metal</td>\n",
       "    </tr>\n",
       "  </tbody>\n",
       "</table>"
      ],
      "text/plain": [
       "<IPython.core.display.HTML object>"
      ]
     },
     "execution_count": 31,
     "metadata": {},
     "output_type": "execute_result"
    }
   ],
   "source": [
    "sql('''\n",
    "    Select * \n",
    "    from Genre     \n",
    "    limit 3\n",
    "''')"
   ]
  },
  {
   "cell_type": "code",
   "execution_count": 32,
   "metadata": {},
   "outputs": [
    {
     "data": {
      "text/html": [
       "<table border=\"1\" class=\"dataframe\">\n",
       "  <thead>\n",
       "    <tr style=\"text-align: right;\">\n",
       "      <th>GenreId</th>\n",
       "      <th>Name</th>\n",
       "    </tr>\n",
       "  </thead>\n",
       "  <tbody>\n",
       "    <tr>\n",
       "      <td>1</td>\n",
       "      <td>Rock</td>\n",
       "    </tr>\n",
       "    <tr>\n",
       "      <td>2</td>\n",
       "      <td>Jazz</td>\n",
       "    </tr>\n",
       "    <tr>\n",
       "      <td>3</td>\n",
       "      <td>Metal</td>\n",
       "    </tr>\n",
       "  </tbody>\n",
       "</table>"
      ],
      "text/plain": [
       "<IPython.core.display.HTML object>"
      ]
     },
     "execution_count": 32,
     "metadata": {},
     "output_type": "execute_result"
    }
   ],
   "source": [
    "sql('''\n",
    "    Select * \n",
    "    from Genre     \n",
    "    limit 3\n",
    "''')"
   ]
  },
  {
   "cell_type": "code",
   "execution_count": 33,
   "metadata": {},
   "outputs": [
    {
     "data": {
      "text/html": [
       "<table border=\"1\" class=\"dataframe\">\n",
       "  <thead>\n",
       "    <tr style=\"text-align: right;\">\n",
       "      <th>Unit Price</th>\n",
       "      <th>Invoice Date</th>\n",
       "      <th>Customer Namer</th>\n",
       "      <th>Track Name</th>\n",
       "      <th>Album Name</th>\n",
       "      <th>Artist Name</th>\n",
       "    </tr>\n",
       "  </thead>\n",
       "  <tbody>\n",
       "    <tr>\n",
       "      <td>0.99</td>\n",
       "      <td>2007-01-01 00:00:00</td>\n",
       "      <td>Leonie</td>\n",
       "      <td>Balls to the Wall</td>\n",
       "      <td>Balls to the Wall</td>\n",
       "      <td>Accept</td>\n",
       "    </tr>\n",
       "    <tr>\n",
       "      <td>0.99</td>\n",
       "      <td>2007-01-01 00:00:00</td>\n",
       "      <td>Leonie</td>\n",
       "      <td>Restless and Wild</td>\n",
       "      <td>Restless and Wild</td>\n",
       "      <td>Accept</td>\n",
       "    </tr>\n",
       "    <tr>\n",
       "      <td>0.99</td>\n",
       "      <td>2007-01-02 00:00:00</td>\n",
       "      <td>Bjørn</td>\n",
       "      <td>Put The Finger On You</td>\n",
       "      <td>For Those About To Rock We Salute You</td>\n",
       "      <td>AC/DC</td>\n",
       "    </tr>\n",
       "    <tr>\n",
       "      <td>0.99</td>\n",
       "      <td>2007-01-02 00:00:00</td>\n",
       "      <td>Bjørn</td>\n",
       "      <td>Inject The Venom</td>\n",
       "      <td>For Those About To Rock We Salute You</td>\n",
       "      <td>AC/DC</td>\n",
       "    </tr>\n",
       "    <tr>\n",
       "      <td>0.99</td>\n",
       "      <td>2007-01-02 00:00:00</td>\n",
       "      <td>Bjørn</td>\n",
       "      <td>Evil Walks</td>\n",
       "      <td>For Those About To Rock We Salute You</td>\n",
       "      <td>AC/DC</td>\n",
       "    </tr>\n",
       "  </tbody>\n",
       "</table>"
      ],
      "text/plain": [
       "<IPython.core.display.HTML object>"
      ]
     },
     "execution_count": 33,
     "metadata": {},
     "output_type": "execute_result"
    }
   ],
   "source": [
    "sql('''\n",
    "    SELECT \t\n",
    "        IL.UNITPRICE AS \"Unit Price\",\n",
    "\t\tI.INVOICEDATE AS \"Invoice Date\",\n",
    "\t\tC.FIRSTNAME AS \"Customer Namer\",\n",
    "\t\tT.NAME AS \"Track Name\" ,\n",
    "\t\tA.TITLE AS \"Album Name\"  ,\n",
    "\t\tA2.NAME  AS \"Artist Name\"\n",
    "    FROM INVOICELINE IL\n",
    "    JOIN INVOICE I ON I.INVOICEID = IL.INVOICEID \n",
    "    JOIN CUSTOMER C ON I.CUSTOMERID = C.CUSTOMERID \n",
    "    JOIN TRACK T ON IL.TRACKID = T.TRACKID \n",
    "    JOIN ALBUM A ON T.ALBUMID = A.ALBUMID \n",
    "    JOIN ARTIST A2 ON A.ARTISTID = A2.ARTISTID \n",
    "    Limit 5\n",
    "''')"
   ]
  },
  {
   "cell_type": "code",
   "execution_count": 34,
   "metadata": {},
   "outputs": [
    {
     "data": {
      "text/html": [
       "<table border=\"1\" class=\"dataframe\">\n",
       "  <thead>\n",
       "    <tr style=\"text-align: right;\">\n",
       "      <th>Table</th>\n",
       "      <th>Count</th>\n",
       "    </tr>\n",
       "  </thead>\n",
       "  <tbody>\n",
       "    <tr>\n",
       "      <td>Artists</td>\n",
       "      <td>275</td>\n",
       "    </tr>\n",
       "    <tr>\n",
       "      <td>Customers</td>\n",
       "      <td>59</td>\n",
       "    </tr>\n",
       "    <tr>\n",
       "      <td>Genres</td>\n",
       "      <td>25</td>\n",
       "    </tr>\n",
       "    <tr>\n",
       "      <td>Tracks</td>\n",
       "      <td>3503</td>\n",
       "    </tr>\n",
       "  </tbody>\n",
       "</table>"
      ],
      "text/plain": [
       "<IPython.core.display.HTML object>"
      ]
     },
     "execution_count": 34,
     "metadata": {},
     "output_type": "execute_result"
    }
   ],
   "source": [
    "sql('''\n",
    "    SELECT \"Customers\" AS \"Table\", COUNT(*) AS \"Count\" FROM CUSTOMER C \n",
    "    UNION \n",
    "    SELECT \"Genres\", COUNT(*) FROM GENRE G \n",
    "    UNION \n",
    "    SELECT \"Artists\", COUNT(*) FROM ARTIST A \n",
    "    UNION \n",
    "    SELECT \"Tracks\", COUNT(*) FROM TRACK T \n",
    "''')"
   ]
  },
  {
   "cell_type": "code",
   "execution_count": null,
   "metadata": {},
   "outputs": [],
   "source": []
  }
 ],
 "metadata": {
  "kernelspec": {
   "display_name": "Python 3",
   "language": "python",
   "name": "python3"
  },
  "language_info": {
   "codemirror_mode": {
    "name": "ipython",
    "version": 3
   },
   "file_extension": ".py",
   "mimetype": "text/x-python",
   "name": "python",
   "nbconvert_exporter": "python",
   "pygments_lexer": "ipython3",
   "version": "3.9.0"
  }
 },
 "nbformat": 4,
 "nbformat_minor": 2
}
