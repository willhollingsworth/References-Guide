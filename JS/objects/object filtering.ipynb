{
 "cells": [
  {
   "cell_type": "markdown",
   "metadata": {},
   "source": [
    "Filtering an object \n",
    "\n",
    "https://sebhastian.com/javascript-filter-object/\n",
    "\n",
    "https://masteringjs.io/tutorials/fundamentals/filter-object"
   ]
  },
  {
   "cell_type": "code",
   "execution_count": 50,
   "metadata": {},
   "outputs": [
    {
     "name": "stdout",
     "output_type": "stream",
     "text": [
      "original object :      { hats: 5, shirts: 3, shoes: 6 }\n",
      "filtering can be done by converting it into a list      : [ [ 'hats', 5 ], [ 'shirts', 3 ], [ 'shoes', 6 ] ]\n"
     ]
    }
   ],
   "source": [
    "\n",
    "var obj = {\n",
    "    \"hats\": 5,\n",
    "    \"shirts\": 3,\n",
    "    \"shoes\": 6\n",
    "  };\n",
    "console.log('original object :     ',obj)\n",
    "var temp_list = Object.entries(obj)\n",
    "console.log('filtering can be done by converting it into a list      :',temp_list)"
   ]
  },
  {
   "cell_type": "code",
   "execution_count": 51,
   "metadata": {},
   "outputs": [
    {
     "name": "stdout",
     "output_type": "stream",
     "text": [
      "filter the list with a check : is the second element greater than 4?\n",
      "result :     { hats: 5, shoes: 6 }\n"
     ]
    }
   ],
   "source": [
    "var filtered_list = temp_list.filter(num => num[1] > 4)\n",
    "console.log('filter the list with a check : is the second element greater than 4?')\n",
    "var filtered_obj = Object.fromEntries(filtered_list)\n",
    "console.log('result :    ',filtered_obj)"
   ]
  },
  {
   "cell_type": "code",
   "execution_count": 52,
   "metadata": {},
   "outputs": [
    {
     "name": "stdout",
     "output_type": "stream",
     "text": [
      "can filter based on key  :  key != 'hats'\n",
      "result :     { shirts: 3, shoes: 6 }\n"
     ]
    }
   ],
   "source": [
    "var filtered_list = temp_list.filter(key => key[0] != 'hats')\n",
    "console.log('can filter based on key  :  key != \\'hats\\'')\n",
    "var filtered_obj = Object.fromEntries(filtered_list)\n",
    "console.log('result :    ',filtered_obj)"
   ]
  },
  {
   "cell_type": "code",
   "execution_count": 53,
   "metadata": {},
   "outputs": [
    {
     "name": "stdout",
     "output_type": "stream",
     "text": [
      "filter to only include : [ 'hats', 'shirts' ]\n",
      "result :     { hats: 5, shirts: 3 }\n"
     ]
    }
   ],
   "source": [
    "var selection_list = ['hats','shirts']\n",
    "var filtered_list = temp_list.filter(key => selection_list.includes(key[0]))\n",
    "console.log('filter to only include :',selection_list)\n",
    "var filtered_obj = Object.fromEntries(filtered_list)\n",
    "console.log('result :    ',filtered_obj)"
   ]
  },
  {
   "cell_type": "code",
   "execution_count": 67,
   "metadata": {},
   "outputs": [
    {
     "name": "stdout",
     "output_type": "stream",
     "text": [
      "can filter by creating new objects and merging them together\n",
      "the benefit being you can reorder items\n",
      "result :  { shoes: 6, hats: 5 }\n"
     ]
    }
   ],
   "source": [
    "console.log('can filter by creating new objects and merging them together')\n",
    "console.log('the benefit being you can reorder items')\n",
    "var selection_list = ['shoes','hats'],\n",
    "new_obj = {}\n",
    "\n",
    "for (x of selection_list){\n",
    "    let temp_obj = {}\n",
    "    temp_obj[x] = obj[x]\n",
    "    Object.assign(new_obj,temp_obj)\n",
    "}\n",
    "console.log('result : ',new_obj)"
   ]
  },
  {
   "cell_type": "code",
   "execution_count": null,
   "metadata": {},
   "outputs": [],
   "source": []
  }
 ],
 "metadata": {
  "kernelspec": {
   "display_name": "Javascript (Node.js)",
   "language": "javascript",
   "name": "javascript"
  },
  "language_info": {
   "file_extension": ".js",
   "mimetype": "application/javascript",
   "name": "javascript",
   "version": "12.19.0"
  },
  "orig_nbformat": 4
 },
 "nbformat": 4,
 "nbformat_minor": 2
}
