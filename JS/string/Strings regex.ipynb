{
 "cells": [
  {
   "cell_type": "markdown",
   "metadata": {},
   "source": [
    "- https://developer.mozilla.org/en-US/docs/Web/JavaScript/Guide/Regular_Expressions\n",
    "\n",
    "\n",
    "- https://developer.mozilla.org/en-US/docs/Web/JavaScript/Reference/Global_Objects/String/replace\n",
    "- https://www.w3schools.com/jsref/jsref_replace.asp\n"
   ]
  },
  {
   "cell_type": "code",
   "execution_count": 16,
   "metadata": {},
   "outputs": [
    {
     "name": "stdout",
     "output_type": "stream",
     "text": [
      "match single \"is\" with details  -   [ 'is', index: 2, input: 'This is a string', groups: undefined ]\n",
      "match for \"is\"  -   [ 'is', 'is' ]\n",
      "match all t's case insensitive  -   [ 'T', 't' ]\n",
      "match all vowels case insensitive  -   [ 'i', 'i', 'a', 'i' ]\n"
     ]
    }
   ],
   "source": [
    "var ts1 = \"This is a string\";\n",
    "console.log('match single \"is\" with details  -  ',ts1.match('is'))\n",
    "console.log('match for \"is\"  -  ',ts1.match(/is/g))\n",
    "console.log('match all t\\'s case insensitive  -  ',ts1.match(/t/gi))\n",
    "console.log('match all vowels case insensitive  -  ',ts1.match(/[aeiou]/gi))"
   ]
  },
  {
   "cell_type": "code",
   "execution_count": 22,
   "metadata": {},
   "outputs": [
    {
     "name": "stdout",
     "output_type": "stream",
     "text": [
      "replace one - This-is a string\n",
      "replace all - This-is-a-string\n",
      "replace all case insensitive - +his is a s+ring\n",
      "regex groups - two , one\n"
     ]
    }
   ],
   "source": [
    "console.log('replace one space -','This is a string'.replace(/ /,\"-\"))\n",
    "console.log('replace all spaces -','This is a string'.replace(/ /g,\"-\"))\n",
    "console.log('replace all case insensitive -' ,'This is a string'.replace(/t/gi,\"+\")) // match all\n",
    "console.log('regex groups -','one two'.replace(/(\\w+)\\s(\\w+)/,'$2 , $1'))"
   ]
  },
  {
   "cell_type": "code",
   "execution_count": 21,
   "metadata": {},
   "outputs": [
    {
     "name": "stdout",
     "output_type": "stream",
     "text": [
      "simple char count of \"o\" - 4\n",
      "count charter using varible - 2\n"
     ]
    }
   ],
   "source": [
    "// counting number of charters\n",
    "var str1 = 'The quick brown fox jumped over the slow'\n",
    "console.log('simple char count of \"o\" -',str1.match(/o/g).length)\n",
    "\n",
    "// counting based on a variable \n",
    "var search = 'w'\n",
    "var reg = new RegExp(search,'g')\n",
    "console.log('count charter using varible -',str1.match(reg).length)"
   ]
  }
 ],
 "metadata": {
  "kernelspec": {
   "display_name": "Javascript (Node.js)",
   "language": "javascript",
   "name": "javascript"
  },
  "language_info": {
   "file_extension": ".js",
   "mimetype": "application/javascript",
   "name": "javascript",
   "version": "12.19.0"
  },
  "orig_nbformat": 4
 },
 "nbformat": 4,
 "nbformat_minor": 2
}
