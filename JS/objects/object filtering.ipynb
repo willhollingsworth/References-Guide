{
 "cells": [
  {
   "cell_type": "markdown",
   "metadata": {},
   "source": [
    "Filtering an object \n",
    "\n",
    "https://sebhastian.com/javascript-filter-object/\n",
    "\n",
    "https://masteringjs.io/tutorials/fundamentals/filter-object"
   ]
  },
  {
   "cell_type": "code",
   "execution_count": 6,
   "metadata": {},
   "outputs": [
    {
     "name": "stdout",
     "output_type": "stream",
     "text": [
      "original object :      { hats: 5, shirts: 3, shoes: 6 }\n",
      "converted into a list      : [ [ 'hats', 5 ], [ 'shirts', 3 ], [ 'shoes', 6 ] ]\n"
     ]
    }
   ],
   "source": [
    "\n",
    "var obj = {\n",
    "    \"hats\": 5,\n",
    "    \"shirts\": 3,\n",
    "    \"shoes\": 6\n",
    "  };\n",
    "console.log('original object :     ',obj)\n",
    "var temp_list = Object.entries(obj)\n",
    "console.log('converted into a list      :',temp_list)"
   ]
  },
  {
   "cell_type": "code",
   "execution_count": 7,
   "metadata": {},
   "outputs": [
    {
     "name": "stdout",
     "output_type": "stream",
     "text": [
      "filter the list with a check : is the second element greater than 4?\n",
      "newly filtered list :     [ [ 'hats', 5 ], [ 'shoes', 6 ] ]\n",
      "converted back to an object :     { hats: 5, shoes: 6 }\n"
     ]
    }
   ],
   "source": [
    "var filtered_list = temp_list.filter(num => num[1] > 4)\n",
    "console.log('filter the list with a check : is the second element greater than 4?')\n",
    "console.log('newly filtered list :    ',filtered_list)\n",
    "var filtered_obj = Object.fromEntries(filtered_list)\n",
    "console.log('converted back to an object :    ',filtered_obj)"
   ]
  }
 ],
 "metadata": {
  "kernelspec": {
   "display_name": "Javascript (Node.js)",
   "language": "javascript",
   "name": "javascript"
  },
  "language_info": {
   "file_extension": ".js",
   "mimetype": "application/javascript",
   "name": "javascript",
   "version": "12.19.0"
  },
  "orig_nbformat": 4
 },
 "nbformat": 4,
 "nbformat_minor": 2
}
