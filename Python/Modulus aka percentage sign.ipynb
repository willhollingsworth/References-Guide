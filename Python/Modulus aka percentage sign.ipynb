{
 "cells": [
  {
   "cell_type": "code",
   "execution_count": 9,
   "metadata": {},
   "outputs": [
    {
     "name": "stdout",
     "output_type": "stream",
     "text": [
      "0:0,  1:1,  2:2,  3:0,  4:1,  5:2,  "
     ]
    }
   ],
   "source": [
    "'''modulus can be used as a limiter\n",
    "once exceeded it loops to the beginning'''\n",
    "for x in range(6):\n",
    "    print(f'{x}:{x%3}', end =',  ')"
   ]
  },
  {
   "cell_type": "code",
   "execution_count": 10,
   "metadata": {},
   "outputs": [
    {
     "name": "stdout",
     "output_type": "stream",
     "text": [
      "10 10,  11 11,  12 12,  13 10,  14 11,  15 12,  "
     ]
    }
   ],
   "source": [
    "'''also can be done on a higher value'''\n",
    "for x in range(10,16):\n",
    "    offset = 10\n",
    "    print(x, (x - offset) % 3 + offset, end =',  ')"
   ]
  },
  {
   "cell_type": "code",
   "execution_count": 11,
   "metadata": {},
   "outputs": [
    {
     "name": "stdout",
     "output_type": "stream",
     "text": [
      "0 even,  1 odd,  2 even,  3 odd,  4 even,  "
     ]
    }
   ],
   "source": [
    "'''also can be used to find uneven numbers'''\n",
    "for x in range(5):\n",
    "    result = 'odd' if x%2 else 'even'\n",
    "    print(x,result, end =',  ')"
   ]
  }
 ],
 "metadata": {
  "interpreter": {
   "hash": "63fd5069d213b44bf678585dea6b12cceca9941eaf7f819626cde1f2670de90d"
  },
  "kernelspec": {
   "display_name": "Python 3.7.1 64-bit",
   "language": "python",
   "name": "python3"
  },
  "language_info": {
   "codemirror_mode": {
    "name": "ipython",
    "version": 3
   },
   "file_extension": ".py",
   "mimetype": "text/x-python",
   "name": "python",
   "nbconvert_exporter": "python",
   "pygments_lexer": "ipython3",
   "version": "3.9.0"
  },
  "orig_nbformat": 2
 },
 "nbformat": 4,
 "nbformat_minor": 2
}
