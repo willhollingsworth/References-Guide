{
 "metadata": {
  "language_info": {
   "codemirror_mode": {
    "name": "ipython",
    "version": 3
   },
   "file_extension": ".py",
   "mimetype": "text/x-python",
   "name": "python",
   "nbconvert_exporter": "python",
   "pygments_lexer": "ipython3",
   "version": "3.7.1"
  },
  "orig_nbformat": 2,
  "kernelspec": {
   "name": "python3",
   "display_name": "Python 3.7.1 64-bit"
  },
  "interpreter": {
   "hash": "871c30085e2c26d19d4878869f886a7ab8c07eba25d7154353bbb906c305cbb2"
  }
 },
 "nbformat": 4,
 "nbformat_minor": 2,
 "cells": [
  {
   "cell_type": "markdown",
   "metadata": {},
   "source": [
    "Interactive Python with Widgets https://www.youtube.com/watch?v=6SHnmho7zCs\n"
   ]
  },
  {
   "cell_type": "code",
   "execution_count": 1,
   "metadata": {},
   "outputs": [],
   "source": [
    "import ipywidgets as wg\n",
    "from IPython.display import display"
   ]
  },
  {
   "cell_type": "code",
   "execution_count": 2,
   "metadata": {},
   "outputs": [
    {
     "output_type": "display_data",
     "data": {
      "text/plain": "Text(value='Name')",
      "application/vnd.jupyter.widget-view+json": {
       "version_major": 2,
       "version_minor": 0,
       "model_id": "d66561f7ec8947c9bea4c0bdf4f1492b"
      }
     },
     "metadata": {}
    },
    {
     "output_type": "display_data",
     "data": {
      "text/plain": "IntSlider(value=0, description='Age:')",
      "application/vnd.jupyter.widget-view+json": {
       "version_major": 2,
       "version_minor": 0,
       "model_id": "f71c8e88435b4a938bdcc088558ca817"
      }
     },
     "metadata": {}
    }
   ],
   "source": [
    "name = wg.Text(value='Name')\n",
    "age = wg.IntSlider(description='Age:')\n",
    "display(name,age)"
   ]
  },
  {
   "cell_type": "code",
   "execution_count": 3,
   "metadata": {
    "tags": []
   },
   "outputs": [
    {
     "output_type": "stream",
     "name": "stdout",
     "text": [
      "Name is 0 Years old.\n"
     ]
    }
   ],
   "source": [
    "print(f'{name.value} is {str(age.value)} Years old.')"
   ]
  },
  {
   "cell_type": "code",
   "execution_count": 4,
   "metadata": {},
   "outputs": [
    {
     "output_type": "display_data",
     "data": {
      "text/plain": "FloatText(value=0.0)",
      "application/vnd.jupyter.widget-view+json": {
       "version_major": 2,
       "version_minor": 0,
       "model_id": "825de73348074353ae2f5576b0e7b2cb"
      }
     },
     "metadata": {}
    },
    {
     "output_type": "display_data",
     "data": {
      "text/plain": "FloatSlider(value=0.0)",
      "application/vnd.jupyter.widget-view+json": {
       "version_major": 2,
       "version_minor": 0,
       "model_id": "d7b1ba32508246ca9d07d6e22b54c98f"
      }
     },
     "metadata": {}
    }
   ],
   "source": [
    "a = wg.FloatText()\n",
    "b= wg.FloatSlider()\n",
    "display(a,b)\n",
    "mylink = wg.jslink((a,'value'),(b,'value'))"
   ]
  }
 ]
}