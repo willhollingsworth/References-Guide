{
 "cells": [
  {
   "cell_type": "code",
   "execution_count": null,
   "metadata": {},
   "outputs": [],
   "source": [
    "https://www.freecodecamp.org/learn/javascript-algorithms-and-data-structures/basic-javascript/generate-random-whole-numbers-within-a-range"
   ]
  },
  {
   "cell_type": "code",
   "execution_count": 46,
   "metadata": {},
   "outputs": [
    {
     "name": "stdout",
     "output_type": "stream",
     "text": [
      "random 0 - 1    0.6938988265264108\n",
      "random rounded 0 - 9    7\n"
     ]
    }
   ],
   "source": [
    "console.log('random 0 - 1   ',Math.random());\n",
    "console.log('random rounded 0 - 9   ',Math.floor(Math.random()*10));\n",
    "\n",
    "//Math.floor(Math.random() * (max - min + 1)) + min\n",
    "\n"
   ]
  },
  {
   "cell_type": "code",
   "execution_count": 100,
   "metadata": {},
   "outputs": [
    {
     "name": "stdout",
     "output_type": "stream",
     "text": [
      "range of random 6\n"
     ]
    }
   ],
   "source": [
    "var min = 4;\n",
    "var max = 6;\n",
    "\n",
    "console.log('range of random',Math.floor(Math.random() * (max - min +1)) + min)\n",
    "// logic is find the range of numbers (max-min + 1 = 6-4 +1)\n",
    "// the =1 is because there need to be 3 choices even thou 6-4 is 2 \n",
    "// 4, 5, 6\n",
    "// then once you generated the range add the minimum so its offset correctly ( from 0, 1, 2 -> 4, 5, 6)\n"
   ]
  },
  {
   "cell_type": "code",
   "execution_count": null,
   "metadata": {},
   "outputs": [],
   "source": []
  }
 ],
 "metadata": {
  "kernelspec": {
   "display_name": "Javascript (Node.js)",
   "language": "javascript",
   "name": "javascript"
  },
  "language_info": {
   "codemirror_mode": {
    "name": "ipython",
    "version": 3
   },
   "file_extension": ".py",
   "mimetype": "text/x-python",
   "name": "javascript",
   "nbconvert_exporter": "python",
   "pygments_lexer": "ipython3",
   "version": 3
  },
  "orig_nbformat": 2
 },
 "nbformat": 4,
 "nbformat_minor": 2
}
