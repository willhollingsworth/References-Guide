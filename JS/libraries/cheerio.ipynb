{
 "cells": [
  {
   "cell_type": "markdown",
   "metadata": {},
   "source": [
    "official docs https://github.com/cheeriojs/cheerio\n",
    "\n",
    "importing local files https://nodejs.dev/learn/reading-files-with-nodejs"
   ]
  },
  {
   "cell_type": "code",
   "execution_count": 47,
   "metadata": {},
   "outputs": [],
   "source": [
    "\n",
    "var cheerio = require('cheerio')\n",
    "var fs = require('fs')\n",
    "var path = require('path')\n",
    "\n",
    "try {\n",
    "    var data = fs.readFileSync('./example.html', 'utf8')\n",
    "    var html = data\n",
    "    } catch (err) {\n",
    "    console.error(err)\n",
    "    }"
   ]
  },
  {
   "cell_type": "code",
   "execution_count": 48,
   "metadata": {},
   "outputs": [
    {
     "name": "stdout",
     "output_type": "stream",
     "text": [
      "<ul id=\"fruits\">\n",
      "    <li class=\"apple\">Apple</li>\n",
      "    <li class=\"orange\">Orange</li>\n",
      "    <li class=\"pear\">Pear</li>\n",
      "  </ul>\n"
     ]
    }
   ],
   "source": [
    "var $ = cheerio.load(html,null,false)\n",
    "console.log(    $.html())"
   ]
  },
  {
   "cell_type": "code",
   "execution_count": 50,
   "metadata": {},
   "outputs": [
    {
     "name": "stdout",
     "output_type": "stream",
     "text": [
      "Apple\n",
      "Orange\n",
      "pear\n"
     ]
    }
   ],
   "source": [
    "// Selectors\n",
    "console.log(    $('.apple', '#fruits').text());\n",
    "console.log(    $('li[class=orange]').html());\n",
    "console.log(    $('ul .pear').attr('class'));\n"
   ]
  }
 ],
 "metadata": {
  "kernelspec": {
   "display_name": "Javascript (Node.js)",
   "language": "javascript",
   "name": "javascript"
  },
  "language_info": {
   "file_extension": ".js",
   "mimetype": "application/javascript",
   "name": "javascript",
   "version": "12.19.0"
  },
  "orig_nbformat": 4
 },
 "nbformat": 4,
 "nbformat_minor": 2
}
