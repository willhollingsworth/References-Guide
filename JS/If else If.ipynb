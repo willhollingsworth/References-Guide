{
 "cells": [
  {
   "cell_type": "code",
   "execution_count": 13,
   "metadata": {},
   "outputs": [],
   "source": [
    "function tester(val) {\n",
    "    var output = ''\n",
    "    //check if pos or neg\n",
    "    if (val < 3){\n",
    "        output += ' is below three'\n",
    "    } else if (val == 3){\n",
    "        output += ' is three'\n",
    "    } else {\n",
    "        output += ' is above three'\n",
    "    }\n",
    "\n",
    "    if (val % 2 == 0){\n",
    "        output += ', is even '\n",
    "    } else if (val % 2 == 1){\n",
    "        output += ', is odd'\n",
    "    }\n",
    "    return(val + output)\n",
    "}"
   ]
  },
  {
   "cell_type": "code",
   "execution_count": 14,
   "metadata": {},
   "outputs": [
    {
     "name": "stdout",
     "output_type": "stream",
     "text": [
      "1 is below three, is odd\n",
      "2 is below three, is even \n",
      "3 is three, is odd\n",
      "4 is above three, is even \n"
     ]
    }
   ],
   "source": [
    "for (i=1; i < 5; i++) {   \n",
    "console.log(tester(i));}"
   ]
  },
  {
   "cell_type": "code",
   "execution_count": 15,
   "metadata": {},
   "outputs": [],
   "source": [
    "//conditional (ternary) Operator\n",
    "// if(a > b) { return \"a\"; } else { return \"b\"; } \n",
    "// a > b ? \"a\" : \"b \"; \n",
    "\n"
   ]
  }
 ],
 "metadata": {
  "kernelspec": {
   "display_name": "Javascript (Node.js)",
   "language": "javascript",
   "name": "javascript"
  },
  "language_info": {
   "codemirror_mode": {
    "name": "ipython",
    "version": 3
   },
   "file_extension": ".py",
   "mimetype": "text/x-python",
   "name": "javascript",
   "nbconvert_exporter": "python",
   "pygments_lexer": "ipython3",
   "version": "3.7.1"
  },
  "orig_nbformat": 2
 },
 "nbformat": 4,
 "nbformat_minor": 2
}
