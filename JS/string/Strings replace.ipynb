{
 "cells": [
  {
   "cell_type": "markdown",
   "metadata": {},
   "source": [
    "https://developer.mozilla.org/en-US/docs/Web/JavaScript/Reference/Global_Objects/String/replace\n",
    "\n",
    "https://www.w3schools.com/jsref/jsref_replace.asp\n",
    "\n"
   ]
  },
  {
   "cell_type": "code",
   "execution_count": 11,
   "metadata": {},
   "outputs": [
    {
     "name": "stdout",
     "output_type": "stream",
     "text": [
      "replace one - This-is a string\n",
      "replace all - This-is-a-string\n",
      "replace all case insensitive - +his is a s+ring\n"
     ]
    }
   ],
   "source": [
    "console.log('replace one -','This is a string'.replace(\" \",\"-\"))\n",
    "console.log('replace all -','This is a string'.replace(/ /g,\"-\"))\n",
    "console.log('replace all case insensitive -' ,'This is a string'.replace(/t/gi,\"+\")) // match all"
   ]
  },
  {
   "cell_type": "code",
   "execution_count": 13,
   "metadata": {},
   "outputs": [
    {
     "name": "stdout",
     "output_type": "stream",
     "text": [
      "regex groups one two\n"
     ]
    }
   ],
   "source": [
    "console.log('regex groups','one two'.replace('/(\\w+)\\s(\\w+)/','$2 , $1'))"
   ]
  }
 ],
 "metadata": {
  "kernelspec": {
   "display_name": "Javascript (Node.js)",
   "language": "javascript",
   "name": "javascript"
  },
  "language_info": {
   "file_extension": ".js",
   "mimetype": "application/javascript",
   "name": "javascript",
   "version": "12.19.0"
  },
  "orig_nbformat": 4
 },
 "nbformat": 4,
 "nbformat_minor": 2
}
