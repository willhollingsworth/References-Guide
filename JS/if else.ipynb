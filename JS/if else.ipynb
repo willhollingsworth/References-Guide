{
 "cells": [
  {
   "cell_type": "code",
   "execution_count": 1,
   "metadata": {},
   "outputs": [
    {
     "name": "stdout",
     "output_type": "stream",
     "text": [
      "no 5\n"
     ]
    }
   ],
   "source": [
    "var rand = Math.floor(Math.random()*10)\n",
    "if (rand > 5) { \n",
    "out = 'yes'\n",
    "} else { \n",
    "out = 'no'\n",
    "};\n",
    "console.log(out,rand)"
   ]
  },
  {
   "cell_type": "code",
   "execution_count": 2,
   "metadata": {},
   "outputs": [
    {
     "name": "stdout",
     "output_type": "stream",
     "text": [
      "ternary operators no 2\n"
     ]
    }
   ],
   "source": [
    "// conditional (ternary) Operator\n",
    "var rand2 = Math.floor(Math.random()*10)\n",
    "rand2 > 5 ? \n",
    "out2 = 'yes'\n",
    ": out2 = 'no'\n",
    "console.log('ternary operators',out2,rand2)"
   ]
  },
  {
   "cell_type": "code",
   "execution_count": 3,
   "metadata": {},
   "outputs": [
    {
     "name": "stdout",
     "output_type": "stream",
     "text": [
      "ternary operators : 5 is five\n"
     ]
    }
   ],
   "source": [
    "//Chained Ternary Operators\n",
    "var rand3 = Math.floor(Math.random()*10)\n",
    "rand3 === 5 ? \n",
    "out3 = 'is five' \n",
    ": rand3 > 5 ? \n",
    "out3 = 'is bigger than 5'\n",
    ": out3 = 'is smaller than 5'\n",
    "console.log('ternary operators :',rand3,out3)"
   ]
  },
  {
   "cell_type": "code",
   "execution_count": 4,
   "metadata": {},
   "outputs": [],
   "source": [
    "//conditional (ternary) Operator\n",
    "// if(a > b) { return \"a\"; } else { return \"b\"; } \n",
    "// a > b ? \"a\" : \"b \"; "
   ]
  }
 ],
 "metadata": {
  "kernelspec": {
   "display_name": "Javascript (Node.js)",
   "language": "javascript",
   "name": "javascript"
  },
  "language_info": {
   "file_extension": ".js",
   "mimetype": "application/javascript",
   "name": "javascript",
   "version": "12.19.0"
  },
  "orig_nbformat": 2
 },
 "nbformat": 4,
 "nbformat_minor": 2
}
