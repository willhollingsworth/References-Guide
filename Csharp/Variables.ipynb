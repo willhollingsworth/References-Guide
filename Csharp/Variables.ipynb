{
 "cells": [
  {
   "cell_type": "markdown",
   "id": "d9d4122f",
   "metadata": {},
   "source": [
    "Links\n",
    "\n",
    " - https://www.w3schools.com/cs/cs_variables.php\n",
    " - https://www.c-sharpcorner.com/article/type-checking-in-c-sharp/\n",
    " - https://code-maze.com/type-checking-type-casting-csharp/\n",
    " \n",
    "\n"
   ]
  },
  {
   "cell_type": "code",
   "execution_count": 28,
   "id": "4686679b",
   "metadata": {
    "dotnet_interactive": {
     "language": "csharp"
    },
    "polyglot_notebook": {
     "kernelName": "csharp"
    },
    "vscode": {
     "languageId": "polyglot-notebook"
    }
   },
   "outputs": [],
   "source": [
    "int val1 = 3;\n",
    "double val2 = 3.14;\n",
    "string val3 = \"3\";\n",
    "bool val4 = false;"
   ]
  },
  {
   "cell_type": "code",
   "execution_count": 29,
   "id": "1f241fa0",
   "metadata": {
    "dotnet_interactive": {
     "language": "csharp"
    },
    "polyglot_notebook": {
     "kernelName": "csharp"
    },
    "vscode": {
     "languageId": "polyglot-notebook"
    }
   },
   "outputs": [
    {
     "name": "stdout",
     "output_type": "stream",
     "text": [
      "System.Int32\n",
      "System.Double\n",
      "System.String\n",
      "System.Boolean\n"
     ]
    }
   ],
   "source": [
    "Console.WriteLine(val1.GetType());\n",
    "Console.WriteLine(val2.GetType());\n",
    "Console.WriteLine(val3.GetType());\n",
    "Console.WriteLine(val4.GetType());"
   ]
  },
  {
   "cell_type": "code",
   "execution_count": 30,
   "id": "e2c030e5",
   "metadata": {
    "dotnet_interactive": {
     "language": "csharp"
    },
    "polyglot_notebook": {
     "kernelName": "csharp"
    },
    "vscode": {
     "languageId": "polyglot-notebook"
    }
   },
   "outputs": [
    {
     "name": "stdout",
     "output_type": "stream",
     "text": [
      "System.Int32\n",
      "System.Double\n",
      "System.String\n",
      "System.Boolean\n"
     ]
    }
   ],
   "source": [
    "Console.WriteLine(typeof(int));\n",
    "Console.WriteLine(typeof(Double));\n",
    "Console.WriteLine(typeof(String));\n",
    "Console.WriteLine(typeof(Boolean));"
   ]
  },
  {
   "cell_type": "code",
   "execution_count": 31,
   "metadata": {
    "dotnet_interactive": {
     "language": "csharp"
    },
    "polyglot_notebook": {
     "kernelName": "csharp"
    },
    "vscode": {
     "languageId": "polyglot-notebook"
    }
   },
   "outputs": [
    {
     "data": {
      "text/html": [
       "<div class=\"dni-plaintext\"><pre>True</pre></div><style>\r\n",
       ".dni-code-hint {\r\n",
       "    font-style: italic;\r\n",
       "    overflow: hidden;\r\n",
       "    white-space: nowrap;\r\n",
       "}\r\n",
       ".dni-treeview {\r\n",
       "    white-space: nowrap;\r\n",
       "}\r\n",
       ".dni-treeview td {\r\n",
       "    vertical-align: top;\r\n",
       "    text-align: start;\r\n",
       "}\r\n",
       "details.dni-treeview {\r\n",
       "    padding-left: 1em;\r\n",
       "}\r\n",
       "table td {\r\n",
       "    text-align: start;\r\n",
       "}\r\n",
       "table tr { \r\n",
       "    vertical-align: top; \r\n",
       "    margin: 0em 0px;\r\n",
       "}\r\n",
       "table tr td pre \r\n",
       "{ \r\n",
       "    vertical-align: top !important; \r\n",
       "    margin: 0em 0px !important;\r\n",
       "} \r\n",
       "table th {\r\n",
       "    text-align: start;\r\n",
       "}\r\n",
       "</style>"
      ]
     },
     "metadata": {},
     "output_type": "display_data"
    }
   ],
   "source": [
    "val1.GetType() == typeof(int)"
   ]
  },
  {
   "cell_type": "code",
   "execution_count": 32,
   "id": "b24f90dd",
   "metadata": {
    "vscode": {
     "languageId": "polyglot-notebook"
    }
   },
   "outputs": [
    {
     "name": "stdout",
     "output_type": "stream",
     "text": [
      "System.Double -> System.Int32\n",
      "3.14 -> 3\n"
     ]
    }
   ],
   "source": [
    "int converted;\n",
    "converted = (int)val2;\n",
    "Console.WriteLine(val2.GetType() + \" -> \" + converted.GetType());\n",
    "Console.WriteLine(val2 + \" -> \" + converted);"
   ]
  },
  {
   "cell_type": "code",
   "execution_count": 37,
   "id": "0d43389f",
   "metadata": {
    "vscode": {
     "languageId": "polyglot-notebook"
    }
   },
   "outputs": [
    {
     "name": "stdout",
     "output_type": "stream",
     "text": [
      "System.String -> System.Int32\r\n"
     ]
    }
   ],
   "source": [
    "Console.WriteLine(val3.GetType() + \" -> \" + int.Parse(val3).GetType());"
   ]
  },
  {
   "cell_type": "code",
   "execution_count": 38,
   "id": "e16e1822",
   "metadata": {
    "vscode": {
     "languageId": "polyglot-notebook"
    }
   },
   "outputs": [
    {
     "name": "stdout",
     "output_type": "stream",
     "text": [
      "System.Int32 -> System.String\n",
      "3 -> 3\n"
     ]
    }
   ],
   "source": [
    "Console.WriteLine(converted.GetType() + \" -> \" + converted.ToString().GetType());\n",
    "Console.WriteLine(converted + \" -> \" + converted.ToString());"
   ]
  }
 ],
 "metadata": {
  "kernelspec": {
   "display_name": ".NET (C#)",
   "language": "C#",
   "name": ".net-csharp"
  },
  "language_info": {
   "file_extension": ".cs",
   "mimetype": "text/x-csharp",
   "name": "C#",
   "pygments_lexer": "csharp",
   "version": "12.0"
  },
  "polyglot_notebook": {
   "kernelInfo": {
    "defaultKernelName": "csharp",
    "items": [
     {
      "aliases": [],
      "name": "csharp"
     }
    ]
   }
  }
 },
 "nbformat": 4,
 "nbformat_minor": 5
}
