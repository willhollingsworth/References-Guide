{
 "metadata": {
  "language_info": {
   "codemirror_mode": {
    "name": "ipython",
    "version": 3
   },
   "file_extension": ".py",
   "mimetype": "text/x-python",
   "name": "python",
   "nbconvert_exporter": "python",
   "pygments_lexer": "ipython3",
   "version": "3.7.1"
  },
  "orig_nbformat": 2,
  "kernelspec": {
   "name": "python371jvsc74a57bd0871c30085e2c26d19d4878869f886a7ab8c07eba25d7154353bbb906c305cbb2",
   "display_name": "Python 3.7.1 64-bit"
  }
 },
 "nbformat": 4,
 "nbformat_minor": 2,
 "cells": [
  {
   "source": [
    "https://www.programiz.com/python-programming/list-comprehension\n",
    "https://realpython.com/list-comprehension-python/\n",
    "\n"
   ],
   "cell_type": "markdown",
   "metadata": {}
  },
  {
   "cell_type": "code",
   "execution_count": 3,
   "metadata": {},
   "outputs": [
    {
     "output_type": "stream",
     "name": "stdout",
     "text": [
      "standard aproach ['a', 'b', 'c', 'd']\n"
     ]
    }
   ],
   "source": [
    "mylist = []\n",
    "for x in 'abcd':\n",
    "    mylist.append(x)\n",
    "print('standard aproach',mylist)"
   ]
  },
  {
   "cell_type": "code",
   "execution_count": 4,
   "metadata": {},
   "outputs": [
    {
     "output_type": "stream",
     "name": "stdout",
     "text": [
      "list comprehensions aproach ['a', 'b', 'c', 'd']\n"
     ]
    }
   ],
   "source": [
    "mylist = [ x for x in 'abcd' ]\n",
    "print('list comprehensions aproach',mylist)"
   ]
  },
  {
   "cell_type": "code",
   "execution_count": 3,
   "metadata": {},
   "outputs": [
    {
     "output_type": "stream",
     "name": "stdout",
     "text": [
      "conditionals in lists comprehensions ['e', 'o', 'e', 'a', 'e', 'a', 'o', 'a']\n"
     ]
    }
   ],
   "source": [
    "sentence = 'the rocket came back from mars'\n",
    "vowels = [i for i in sentence if i in 'aeiou']\n",
    "print('conditionals in lists comprehensions',vowels)"
   ]
  },
  {
   "cell_type": "code",
   "execution_count": 7,
   "metadata": {},
   "outputs": [
    {
     "output_type": "stream",
     "name": "stdout",
     "text": [
      "computations in a list comp [2, 4, 6, 8]\n"
     ]
    }
   ],
   "source": [
    "print('computations in a list comp',\n",
    "        [x*2 for x in [1,2,3,4]])"
   ]
  },
  {
   "cell_type": "code",
   "execution_count": 14,
   "metadata": {},
   "outputs": [
    {
     "output_type": "stream",
     "name": "stdout",
     "text": [
      "using dictionaries in comprehensions [(1, 'a'), (2, 'b'), (3, 'c')]\n"
     ]
    }
   ],
   "source": [
    "test_dict = {'a':1,'b':2,'c':3}\n",
    "print('Using dictionaries in comprehensions',\n",
    "        [(test_dict[item],item) for item in test_dict.keys()])"
   ]
  },
  {
   "cell_type": "code",
   "execution_count": 22,
   "metadata": {},
   "outputs": [
    {
     "output_type": "stream",
     "name": "stdout",
     "text": [
      "function in a list comprehension ['T', 'h', 'r', 'c', 'k', 't', 'w', 'h', 'w', 's', 'n', 'm', 'd', 'T', 'd', 'c', 'm', 'b', 'c', 'k', 'f', 'r', 'm', 'M', 'r', 's', 'b', 'c', 's', 'h', 'm', 's', 's', 'd', 'h', 's', 'f', 'r', 'n', 'd', 's']\n"
     ]
    }
   ],
   "source": [
    "sentence = '1The rocket, who was named Ted, came back \\\n",
    "from Mars because he missed his friends.'\n",
    "def is_consonant(letter):\n",
    "    vowels = 'aeiou'\n",
    "    return  letter.isalpha() and letter.lower() not in vowels\n",
    "consonants = [i for i in sentence if is_consonant(i)]\n",
    "print('function in a list comprehension',consonants)"
   ]
  },
  {
   "cell_type": "code",
   "execution_count": 2,
   "metadata": {},
   "outputs": [
    {
     "output_type": "execute_result",
     "data": {
      "text/plain": [
       "[0, 1, 2, 3, 4, 5, 6, 7, 8, 9]"
      ]
     },
     "metadata": {},
     "execution_count": 2
    }
   ],
   "source": [
    "[x for x in range(10)]"
   ]
  },
  {
   "cell_type": "code",
   "execution_count": 4,
   "metadata": {},
   "outputs": [
    {
     "output_type": "stream",
     "name": "stdout",
     "text": [
      "[(0, 0), (0, 1), (0, 2), (0, 3), (1, 0), (1, 1), (1, 2), (1, 3), (2, 0), (2, 1), (2, 2), (2, 3), (3, 0), (3, 1), (3, 2), (3, 3), (4, 0), (4, 1), (4, 2), (4, 3)]\n"
     ]
    }
   ],
   "source": [
    "print(\\\n",
    "[(i,j) for i in range(5) for j in range(4)])"
   ]
  }
 ]
}