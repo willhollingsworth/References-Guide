{
 "cells": [
  {
   "cell_type": "markdown",
   "metadata": {},
   "source": [
    "https://www.geeksforgeeks.org/javascript-array-filter-method/"
   ]
  },
  {
   "cell_type": "code",
   "execution_count": 6,
   "metadata": {},
   "outputs": [
    {
     "name": "stdout",
     "output_type": "stream",
     "text": [
      "filter numbers above 0 [ 112, 40 ]\n"
     ]
    }
   ],
   "source": [
    "var ages = [-243, -132, 112, 40, -96];\n",
    "var agefiltered = ages.filter(number => number > 0);\n",
    "console.log('filter numbers above 0',agefiltered);"
   ]
  },
  {
   "cell_type": "code",
   "execution_count": 4,
   "metadata": {},
   "outputs": [
    {
     "name": "stdout",
     "output_type": "stream",
     "text": [
      "is odd [ 23, 1 ]\n"
     ]
    }
   ],
   "source": [
    "var filtered = [ 98, 23, 0, 1,22].filter(num => num % 2 == 1 );\n",
    "console.log('filter odd numbers-',filtered);"
   ]
  },
  {
   "cell_type": "code",
   "execution_count": 5,
   "metadata": {},
   "outputs": [
    {
     "name": "stdout",
     "output_type": "stream",
     "text": [
      "is even using separate function [ 98, 944 ]\n"
     ]
    }
   ],
   "source": [
    "function isEven(value) {\n",
    "  return value % 2 == 0;}\n",
    "var filtered = [11, 98, 31, 23, 944].filter(isEven);\n",
    "console.log('is even using separate function -',filtered);"
   ]
  },
  {
   "cell_type": "code",
   "execution_count": 9,
   "metadata": {},
   "outputs": [
    {
     "name": "stdout",
     "output_type": "stream",
     "text": [
      "filter a 2d list. is the second element odd? [ [ 1, 3 ], [ 4, 1 ] ]\n"
     ]
    }
   ],
   "source": [
    "var two_d_list = [[1,3],[4,1],[3,2]]\n",
    "var filtered = two_d_list.filter(num => num[1] % 2 == 1);\n",
    "console.log('filter a 2d list. is the second element odd?', filtered)\n"
   ]
  }
 ],
 "metadata": {
  "kernelspec": {
   "display_name": "Javascript (Node.js)",
   "language": "javascript",
   "name": "javascript"
  },
  "language_info": {
   "file_extension": ".js",
   "mimetype": "application/javascript",
   "name": "javascript",
   "version": "12.19.0"
  },
  "orig_nbformat": 2
 },
 "nbformat": 4,
 "nbformat_minor": 2
}
