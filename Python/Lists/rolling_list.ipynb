{
 "metadata": {
  "language_info": {
   "codemirror_mode": {
    "name": "ipython",
    "version": 3
   },
   "file_extension": ".py",
   "mimetype": "text/x-python",
   "name": "python",
   "nbconvert_exporter": "python",
   "pygments_lexer": "ipython3",
   "version": "3.7.1-final"
  },
  "orig_nbformat": 2,
  "kernelspec": {
   "name": "Python 3.7.1 64-bit",
   "display_name": "Python 3.7.1 64-bit",
   "metadata": {
    "interpreter": {
     "hash": "871c30085e2c26d19d4878869f886a7ab8c07eba25d7154353bbb906c305cbb2"
    }
   }
  }
 },
 "nbformat": 4,
 "nbformat_minor": 2,
 "cells": [
  {
   "source": [
    "rolling list testing for sc2 bot mineral rate\n",
    "https://www.programiz.com/python-programming/methods/list/insert"
   ],
   "cell_type": "markdown",
   "metadata": {}
  },
  {
   "cell_type": "code",
   "execution_count": 1,
   "metadata": {
    "tags": []
   },
   "outputs": [
    {
     "output_type": "stream",
     "name": "stdout",
     "text": [
      "[0]\n[1, 0]\n[2, 1, 0]\n[3, 2, 1, 0]\n[4, 3, 2, 1, 0]\n[5, 4, 3, 2, 1, 0]\n[6, 5, 4, 3, 2, 1]\n[7, 6, 5, 4, 3, 2]\n[8, 7, 6, 5, 4, 3]\n[9, 8, 7, 6, 5, 4]\n"
     ]
    }
   ],
   "source": [
    "in_list = []\n",
    "\n",
    "def rolling_list(input_list,input_value,limit):\n",
    "    while len(input_list) > limit:\n",
    "        del input_list[-1]\n",
    "    input_list.insert(0,input_value)\n",
    "    return input_list\n",
    "\n",
    "for x in range(10):\n",
    "    in_list = rolling_list(in_list,x,5)\n",
    "    print(in_list)"
   ]
  },
  {
   "cell_type": "code",
   "execution_count": 39,
   "metadata": {
    "tags": []
   },
   "outputs": [
    {
     "output_type": "stream",
     "name": "stdout",
     "text": "[0, 1, 2, 3, 4, 5, 6, 7, 8, 9]\n"
    }
   ],
   "source": [
    "test_list = []\n",
    "for x in range(10):\n",
    "    test_list.append(x)\n",
    "print(test_list)"
   ]
  },
  {
   "cell_type": "code",
   "execution_count": 40,
   "metadata": {
    "tags": []
   },
   "outputs": [
    {
     "output_type": "stream",
     "name": "stdout",
     "text": "[9, 8, 7, 6, 5, 4, 3, 2, 1, 0]\n"
    }
   ],
   "source": [
    "test_list2 = []\n",
    "for x in range(10):\n",
    "    test_list2.insert(0,x)\n",
    "print(test_list2)"
   ]
  },
  {
   "cell_type": "code",
   "execution_count": null,
   "metadata": {},
   "outputs": [],
   "source": []
  }
 ]
}