{
 "cells": [
  {
   "attachments": {},
   "cell_type": "markdown",
   "metadata": {},
   "source": [
    "### F strings\n",
    "https://www.geeksforgeeks.org/formatted-string-literals-f-strings-python/"
   ]
  },
  {
   "cell_type": "code",
   "execution_count": 8,
   "metadata": {},
   "outputs": [
    {
     "name": "stdout",
     "output_type": "stream",
     "text": [
      "str: a ,int: 3 ,float: 1.76\n",
      "6.67 gnirts_tset \n"
     ]
    }
   ],
   "source": [
    "v1,v2,v3 = ('a',3,1.76)\n",
    "print(f'str: {v1} ,int: {v2} ,float: {v3}')\n",
    "t_str = \"test_string\"\n",
    "print(f'{round(20/3,2)} {t_str[::-1]} ')"
   ]
  },
  {
   "attachments": {},
   "cell_type": "markdown",
   "metadata": {},
   "source": [
    "### Percent operator\n",
    "https://stackabuse.com/python-string-interpolation-with-the-percent-operator/"
   ]
  },
  {
   "cell_type": "code",
   "execution_count": 12,
   "metadata": {},
   "outputs": [
    {
     "name": "stdout",
     "output_type": "stream",
     "text": [
      "str: a ,int: 3,float: 1.76\n",
      "1.76 1.760000 1.760 1\n"
     ]
    }
   ],
   "source": [
    "print('str: %s ,int: %s,float: %s' % (v1,v2,v3))\n",
    "print('%s %f %.3f %d' % (v3,v3,v3,v3))"
   ]
  }
 ],
 "metadata": {
  "kernelspec": {
   "display_name": "Python 3",
   "language": "python",
   "name": "python3"
  },
  "language_info": {
   "codemirror_mode": {
    "name": "ipython",
    "version": 3
   },
   "file_extension": ".py",
   "mimetype": "text/x-python",
   "name": "python",
   "nbconvert_exporter": "python",
   "pygments_lexer": "ipython3",
   "version": "3.9.0"
  },
  "orig_nbformat": 4
 },
 "nbformat": 4,
 "nbformat_minor": 2
}
