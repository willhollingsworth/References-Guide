{
 "cells": [
  {
   "cell_type": "markdown",
   "metadata": {},
   "source": [
    "- https://www.w3schools.com/python/ref_func_filter.asp\n",
    "- https://www.programiz.com/python-programming/methods/built-in/filter\n",
    "- https://www.geeksforgeeks.org/lambda-filter-python-examples/"
   ]
  },
  {
   "cell_type": "code",
   "execution_count": 2,
   "metadata": {},
   "outputs": [
    {
     "name": "stdout",
     "output_type": "stream",
     "text": [
      "[7, 1, 4, 9, 8]\n"
     ]
    }
   ],
   "source": [
    "#create random list of numbers\n",
    "import random\n",
    "l =  random.sample(range(1,10),5)\n",
    "print(l)"
   ]
  },
  {
   "cell_type": "code",
   "execution_count": 3,
   "metadata": {},
   "outputs": [
    {
     "name": "stdout",
     "output_type": "stream",
     "text": [
      "[7, 1, 4]\n"
     ]
    }
   ],
   "source": [
    "# create function to define filter\n",
    "def my_filter(x):\n",
    "    if x > 7:\n",
    "        return False\n",
    "    else:\n",
    "        return True\n",
    "#filter it\n",
    "l2 = filter(my_filter,l)\n",
    "print(list(l2))"
   ]
  },
  {
   "cell_type": "code",
   "execution_count": 4,
   "metadata": {},
   "outputs": [
    {
     "name": "stdout",
     "output_type": "stream",
     "text": [
      "[1, 4]\n"
     ]
    }
   ],
   "source": [
    "# can use lambdas to make it cleaner\n",
    "l3 = list(filter(lambda x : x<7,l))\n",
    "print(l3)"
   ]
  }
 ],
 "metadata": {
  "kernelspec": {
   "display_name": "Python 3.7.1 64-bit",
   "metadata": {
    "interpreter": {
     "hash": "871c30085e2c26d19d4878869f886a7ab8c07eba25d7154353bbb906c305cbb2"
    }
   },
   "name": "python3"
  },
  "language_info": {
   "codemirror_mode": {
    "name": "ipython",
    "version": 3
   },
   "file_extension": ".py",
   "mimetype": "text/x-python",
   "name": "python",
   "nbconvert_exporter": "python",
   "pygments_lexer": "ipython3",
   "version": "3.9.0"
  },
  "orig_nbformat": 2
 },
 "nbformat": 4,
 "nbformat_minor": 2
}
