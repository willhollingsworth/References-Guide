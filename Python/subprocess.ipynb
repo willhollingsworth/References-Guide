{
 "cells": [
  {
   "cell_type": "markdown",
   "metadata": {},
   "source": [
    "Used to run command line programs from within python\n",
    "\n",
    "https://www.datacamp.com/tutorial/python-subprocess"
   ]
  },
  {
   "cell_type": "code",
   "execution_count": 70,
   "metadata": {},
   "outputs": [],
   "source": [
    "import subprocess"
   ]
  },
  {
   "cell_type": "code",
   "execution_count": 71,
   "metadata": {},
   "outputs": [
    {
     "name": "stdout",
     "output_type": "stream",
     "text": [
      "\n"
     ]
    }
   ],
   "source": [
    "def run_command(command):\n",
    "    result = subprocess.run(['cmd','/c',command], shell=True, capture_output=True, text=True)\n",
    "    return result\n",
    "\n",
    "def print_command(command):\n",
    "    result = run_command(command)\n",
    "    print(result.stdout)\n",
    "\n",
    "# print_command('echo hello world')\n",
    "print_command('dir')"
   ]
  },
  {
   "cell_type": "code",
   "execution_count": 72,
   "metadata": {},
   "outputs": [
    {
     "name": "stdout",
     "output_type": "stream",
     "text": [
      "\n"
     ]
    }
   ],
   "source": [
    "def print_first_line(command):\n",
    "    result = run_command(command)\n",
    "    print(result.stdout.split('\\n')[0])\n",
    "print_first_line('dir')"
   ]
  },
  {
   "cell_type": "code",
   "execution_count": null,
   "metadata": {},
   "outputs": [],
   "source": []
  }
 ],
 "metadata": {
  "kernelspec": {
   "display_name": "Python 3",
   "language": "python",
   "name": "python3"
  },
  "language_info": {
   "codemirror_mode": {
    "name": "ipython",
    "version": 3
   },
   "file_extension": ".py",
   "mimetype": "text/x-python",
   "name": "python",
   "nbconvert_exporter": "python",
   "pygments_lexer": "ipython3",
   "version": "3.9.0"
  }
 },
 "nbformat": 4,
 "nbformat_minor": 2
}
