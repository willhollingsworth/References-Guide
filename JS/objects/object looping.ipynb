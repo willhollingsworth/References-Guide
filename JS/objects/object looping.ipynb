{
 "cells": [
  {
   "cell_type": "code",
   "execution_count": 20,
   "metadata": {},
   "outputs": [],
   "source": []
  },
  {
   "cell_type": "code",
   "execution_count": 22,
   "metadata": {},
   "outputs": [
    {
     "name": "stdout",
     "output_type": "stream",
     "text": [
      "loop over keys\n",
      "a\n",
      "b\n",
      "c\n"
     ]
    }
   ],
   "source": [
    "var test_object = {'a':[1,2], 'b':[3,4], 'c':[4,5]}\n",
    "var test_string = '';\n",
    "console.log('loop over keys')\n",
    "for (x in test_object){\n",
    "    console.log(x)\n",
    "}\n"
   ]
  },
  {
   "cell_type": "code",
   "execution_count": 23,
   "metadata": {},
   "outputs": [
    {
     "name": "stdout",
     "output_type": "stream",
     "text": [
      "loop over key value pairs by converting it to a list first\n",
      "[ 'a', [ 1, 2 ] ]\n",
      "[ 'b', [ 3, 4 ] ]\n",
      "[ 'c', [ 4, 5 ] ]\n",
      "newly convert list -    [ [ 'a', [ 1, 2 ] ], [ 'b', [ 3, 4 ] ], [ 'c', [ 4, 5 ] ] ]\n"
     ]
    }
   ],
   "source": [
    "// https://developer.mozilla.org/en-US/docs/Web/JavaScript/Reference/Global_Objects/Object/fromEntries\n",
    "temp_array = Object.entries(test_object)\n",
    "console.log('loop over key value pairs by converting it to a list first')\n",
    "test_string = ''\n",
    "for (x of temp_array){\n",
    "    console.log(x)\n",
    "}\n",
    "console.log('newly convert list -   ',temp_array)"
   ]
  },
  {
   "cell_type": "code",
   "execution_count": null,
   "metadata": {},
   "outputs": [],
   "source": []
  }
 ],
 "metadata": {
  "kernelspec": {
   "display_name": "Javascript (Node.js)",
   "language": "javascript",
   "name": "javascript"
  },
  "language_info": {
   "file_extension": ".js",
   "mimetype": "application/javascript",
   "name": "javascript",
   "version": "12.19.0"
  },
  "orig_nbformat": 4
 },
 "nbformat": 4,
 "nbformat_minor": 2
}
