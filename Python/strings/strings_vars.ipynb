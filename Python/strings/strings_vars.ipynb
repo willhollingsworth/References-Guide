{
 "cells": [
  {
   "attachments": {},
   "cell_type": "markdown",
   "metadata": {},
   "source": [
    "### Percent operator\n",
    "https://stackabuse.com/python-string-interpolation-with-the-percent-operator/"
   ]
  },
  {
   "cell_type": "code",
   "execution_count": 28,
   "metadata": {},
   "outputs": [
    {
     "name": "stdout",
     "output_type": "stream",
     "text": [
      "str:a ,int:3,float:1.76\n",
      "1.76   1.760   1   1.760000\n"
     ]
    }
   ],
   "source": [
    "print('str:%s ,int:%s,float:%s' % (v1,v2,v3))\n",
    "print('%s   %.3f   %d   %f' % (v3,v3,v3,v3))"
   ]
  },
  {
   "cell_type": "code",
   "execution_count": 29,
   "metadata": {},
   "outputs": [],
   "source": [
    "v1,v2,v3 = ('a',3,1.76)\n",
    "d1 = {'name':'John','age':25,'country':'Australia'}"
   ]
  },
  {
   "cell_type": "code",
   "execution_count": 30,
   "metadata": {},
   "outputs": [
    {
     "name": "stdout",
     "output_type": "stream",
     "text": [
      "str: a ,int: 3,float: 1.76\n",
      "I'm John from Australia and 25 years old\n"
     ]
    }
   ],
   "source": [
    "print('str: {} ,int: {},float: {}'.format(v1,v2,v3))\n",
    "print('I\\'m {name} from {country} and {age} years old'.format(**d1))"
   ]
  }
 ],
 "metadata": {
  "kernelspec": {
   "display_name": "Python 3",
   "language": "python",
   "name": "python3"
  },
  "language_info": {
   "codemirror_mode": {
    "name": "ipython",
    "version": 3
   },
   "file_extension": ".py",
   "mimetype": "text/x-python",
   "name": "python",
   "nbconvert_exporter": "python",
   "pygments_lexer": "ipython3",
   "version": "3.9.0"
  },
  "orig_nbformat": 4
 },
 "nbformat": 4,
 "nbformat_minor": 2
}
