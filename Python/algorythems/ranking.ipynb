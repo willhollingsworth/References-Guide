{
 "cells": [
  {
   "cell_type": "code",
   "execution_count": 114,
   "metadata": {},
   "outputs": [
    {
     "data": {
      "text/plain": [
       "'Rough ranking system idea'"
      ]
     },
     "execution_count": 114,
     "metadata": {},
     "output_type": "execute_result"
    }
   ],
   "source": [
    "'''Rough ranking system idea'''"
   ]
  },
  {
   "cell_type": "code",
   "execution_count": 115,
   "metadata": {},
   "outputs": [
    {
     "data": {
      "text/plain": [
       "[7, 6, 2, 4, 8, 2, 4, 1]"
      ]
     },
     "execution_count": 115,
     "metadata": {},
     "output_type": "execute_result"
    }
   ],
   "source": [
    "'''' double iteration approach, no duplicate handling'''\n",
    "input_list = [6,4,2,3,9,2,3,1]\n",
    "ranked_list = []\n",
    "for x in input_list:\n",
    "    count = 1\n",
    "    for y in sorted(input_list):\n",
    "        if x == y:\n",
    "            ranked_list.append(count)\n",
    "            break\n",
    "        count += 1\n",
    "ranked_list"
   ]
  },
  {
   "cell_type": "code",
   "execution_count": 116,
   "metadata": {},
   "outputs": [
    {
     "data": {
      "text/plain": [
       "[7, 6, 2, 4, 8, 3, 5, 1]"
      ]
     },
     "execution_count": 116,
     "metadata": {},
     "output_type": "execute_result"
    }
   ],
   "source": [
    "''' duplication handling based on first serve'''\n",
    "ranked_list = []\n",
    "for x in input_list:\n",
    "    count = 1\n",
    "    for y in sorted(input_list):\n",
    "        if x == y:\n",
    "            while count in ranked_list:\n",
    "                count += 1\n",
    "            ranked_list.append(count)\n",
    "            break\n",
    "        count += 1\n",
    "ranked_list"
   ]
  },
  {
   "cell_type": "code",
   "execution_count": 117,
   "metadata": {},
   "outputs": [
    {
     "data": {
      "text/plain": [
       "[7, 6, 2, 4, 8, 2, 4, 1]"
      ]
     },
     "execution_count": 117,
     "metadata": {},
     "output_type": "execute_result"
    }
   ],
   "source": [
    "''' single iteration using an index'''\n",
    "ranked_list = []\n",
    "sorted_list = sorted(input_list)\n",
    "for x in input_list:\n",
    "    ranked_list.append(sorted_list.index(x)+1)\n",
    "ranked_list"
   ]
  },
  {
   "cell_type": "code",
   "execution_count": 118,
   "metadata": {},
   "outputs": [],
   "source": [
    "import random\n",
    "import time\n",
    "input_list = random.sample(range(1, 99999),6000)"
   ]
  },
  {
   "cell_type": "code",
   "execution_count": 119,
   "metadata": {},
   "outputs": [
    {
     "name": "stdout",
     "output_type": "stream",
     "text": [
      "double iteration takes 5.88 secs\n"
     ]
    }
   ],
   "source": [
    "''' speed comparison, double iteration is a lot slower'''\n",
    "current = time.time()\n",
    "print('double iteration takes ', end='')\n",
    "ranked_list = []\n",
    "for x in input_list:\n",
    "    count = 1\n",
    "    for y in sorted(input_list):\n",
    "        if x == y:\n",
    "            while count in ranked_list:\n",
    "                count += 1\n",
    "            ranked_list.append(count)\n",
    "            break\n",
    "        count += 1\n",
    "print(round(time.time()-current,2),'secs')\n",
    "current = time.time()"
   ]
  },
  {
   "cell_type": "code",
   "execution_count": 120,
   "metadata": {},
   "outputs": [
    {
     "name": "stdout",
     "output_type": "stream",
     "text": [
      "single iteration takes 0.28 secs\n"
     ]
    }
   ],
   "source": [
    "''' single iteration is the quicker approach'''\n",
    "ranked_list = []\n",
    "sorted_list = sorted(input_list)\n",
    "for x in input_list:\n",
    "    ranked_list.append(sorted_list.index(x)+1)\n",
    "print('single iteration takes',round(time.time()-current,2),'secs')"
   ]
  }
 ],
 "metadata": {
  "kernelspec": {
   "display_name": "Python 3.7.1 64-bit",
   "language": "python",
   "name": "python3"
  },
  "language_info": {
   "codemirror_mode": {
    "name": "ipython",
    "version": 3
   },
   "file_extension": ".py",
   "mimetype": "text/x-python",
   "name": "python",
   "nbconvert_exporter": "python",
   "pygments_lexer": "ipython3",
   "version": "3.7.1"
  },
  "orig_nbformat": 4,
  "vscode": {
   "interpreter": {
    "hash": "e0d18222694ae8738dd36c3cc4ba4170ae1f6ee1d532a92ed91acf6f8484f87f"
   }
  }
 },
 "nbformat": 4,
 "nbformat_minor": 2
}
