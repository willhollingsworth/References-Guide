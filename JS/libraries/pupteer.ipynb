{
 "metadata": {
  "language_info": {
   "codemirror_mode": {
    "name": "ipython",
    "version": 3
   },
   "file_extension": ".py",
   "mimetype": "text/x-python",
   "name": "python",
   "nbconvert_exporter": "python",
   "pygments_lexer": "ipython3",
   "version": 3
  },
  "orig_nbformat": 2,
  "kernelspec": {
   "name": "javascript",
   "display_name": "Javascript (Node.js)",
   "language": "javascript"
  }
 },
 "nbformat": 4,
 "nbformat_minor": 2,
 "cells": [
  {
   "source": [
    "video https://developers.google.com/web/tools/puppeteer\n",
    "official docs https://www.npmjs.com/package/puppeteer"
   ],
   "cell_type": "markdown",
   "metadata": {}
  },
  {
   "cell_type": "code",
   "execution_count": 1,
   "metadata": {},
   "outputs": [],
   "source": [
    "const puppeteer = require('puppeteer');"
   ]
  },
  {
   "cell_type": "code",
   "execution_count": 7,
   "metadata": {},
   "outputs": [],
   "source": [
    "(async () => {\n",
    "  const browser = await puppeteer.launch({headless: false});\n",
    "  const page = await browser.newPage();\n",
    "  await page.goto('https://example.com');\n",
    "  await page.screenshot({ path: 'example.png' });\n",
    "  await browser.close();\n",
    "})();"
   ]
  },
  {
   "cell_type": "code",
   "execution_count": 1,
   "metadata": {},
   "outputs": [
    {
     "output_type": "error",
     "ename": "ReferenceError",
     "evalue": "puppeteer is not defined",
     "traceback": [
      "ReferenceError: puppeteer is not defined",
      "    at evalmachine.<anonymous>:2:19",
      "    at evalmachine.<anonymous>:8:3",
      "    at Script.runInThisContext (vm.js:120:18)",
      "    at Object.runInThisContext (vm.js:309:38)",
      "    at run ([eval]:1054:15)",
      "    at onRunRequest ([eval]:888:18)",
      "    at onMessage ([eval]:848:13)",
      "    at process.emit (events.js:314:20)",
      "    at emit (internal/child_process.js:876:12)",
      "    at processTicksAndRejections (internal/process/task_queues.js:85:21)"
     ]
    }
   ],
   "source": [
    "(async () => {\n",
    "  const browser = await puppeteer.launch({headless: false});\n",
    "  const page = await browser.newPage();\n",
    "  await page.goto('https://example.com');\n",
    "  const html = await page.content();\n",
    "  console.log(html);\n",
    "  await browser.close();\n",
    "})();"
   ]
  },
  {
   "cell_type": "code",
   "execution_count": null,
   "metadata": {},
   "outputs": [],
   "source": []
  }
 ]
}