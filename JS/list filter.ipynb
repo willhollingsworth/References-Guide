{
 "cells": [
  {
   "cell_type": "markdown",
   "metadata": {},
   "source": [
    "https://www.geeksforgeeks.org/javascript-array-filter-method/"
   ]
  },
  {
   "cell_type": "code",
   "execution_count": 1,
   "metadata": {},
   "outputs": [
    {
     "name": "stdout",
     "output_type": "stream",
     "text": [
      "[ 112, 40 ]\n"
     ]
    }
   ],
   "source": [
    "var ages = [-243, -132, 112, 40, -96];\n",
    "var agefiltered = ages.filter(number => number > 0);\n",
    "console.log(agefiltered);"
   ]
  },
  {
   "cell_type": "code",
   "execution_count": 2,
   "metadata": {},
   "outputs": [
    {
     "name": "stdout",
     "output_type": "stream",
     "text": [
      "[ 98, 944 ]\n"
     ]
    }
   ],
   "source": [
    "function isEven(value) {\n",
    "  return value % 2 == 0;}\n",
    "var filtered = [11, 98, 31, 23, 944].filter(isEven);\n",
    "console.log(filtered);"
   ]
  },
  {
   "cell_type": "code",
   "execution_count": 3,
   "metadata": {},
   "outputs": [
    {
     "name": "stdout",
     "output_type": "stream",
     "text": [
      "[ 98, 23 ]\n"
     ]
    }
   ],
   "source": [
    "function isPositive(value) {\n",
    "  return value > 0;}\n",
    "var filtered = [-5, 98, -7, 23, 0].filter(isPositive);\n",
    "console.log(filtered);"
   ]
  },
  {
   "cell_type": "code",
   "execution_count": null,
   "metadata": {},
   "outputs": [],
   "source": []
  }
 ],
 "metadata": {
  "kernelspec": {
   "display_name": "Javascript (Node.js)",
   "language": "javascript",
   "name": "javascript"
  },
  "language_info": {
   "file_extension": ".js",
   "mimetype": "application/javascript",
   "name": "javascript",
   "version": "12.19.0"
  },
  "orig_nbformat": 2
 },
 "nbformat": 4,
 "nbformat_minor": 2
}
