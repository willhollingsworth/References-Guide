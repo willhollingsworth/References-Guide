{
 "cells": [
  {
   "cell_type": "markdown",
   "metadata": {},
   "source": [
    "https://realpython.com/python-json/"
   ]
  },
  {
   "cell_type": "code",
   "execution_count": 2,
   "metadata": {},
   "outputs": [],
   "source": [
    "import json"
   ]
  },
  {
   "cell_type": "code",
   "execution_count": 3,
   "metadata": {},
   "outputs": [
    {
     "name": "stdout",
     "output_type": "stream",
     "text": [
      "start with a standard dict\n",
      " {'name': 'John', 'age': 31, 'city': 'New York'} <class 'dict'>\n"
     ]
    }
   ],
   "source": [
    "dict1 = {\"name\":\"John\", \"age\":31, \"city\":\"New York\"}\n",
    "print('start with a standard dict\\n',\\\n",
    "    dict1, type(dict1))"
   ]
  },
  {
   "cell_type": "code",
   "execution_count": 4,
   "metadata": {},
   "outputs": [
    {
     "name": "stdout",
     "output_type": "stream",
     "text": [
      "convert from python dict into json via json.dumps\n",
      " {\"name\": \"John\", \"age\": 31, \"city\": \"New York\"} <class 'str'>\n"
     ]
    }
   ],
   "source": [
    "json1 = json.dumps(dict1)\n",
    "print('convert from python dict into json via json.dumps\\n',\\\n",
    "    json1, type(json1))"
   ]
  },
  {
   "cell_type": "code",
   "execution_count": 5,
   "metadata": {},
   "outputs": [
    {
     "name": "stdout",
     "output_type": "stream",
     "text": [
      "json to python via json.loads\n",
      " {'name': 'John', 'age': 31, 'city': 'New York'} <class 'dict'>\n"
     ]
    }
   ],
   "source": [
    "dict2 = json.loads(json1)\n",
    "print('json to python via json.loads\\n',\\\n",
    "    dict2,type(dict2))"
   ]
  },
  {
   "cell_type": "code",
   "execution_count": 6,
   "metadata": {},
   "outputs": [
    {
     "name": "stdout",
     "output_type": "stream",
     "text": [
      "as it's a string you can do this :  name\n"
     ]
    }
   ],
   "source": [
    "print('as it\\'s a string you can do this : ',\\\n",
    "    json1[2:6])"
   ]
  },
  {
   "cell_type": "code",
   "execution_count": 8,
   "metadata": {},
   "outputs": [
    {
     "name": "stdout",
     "output_type": "stream",
     "text": [
      "Can also store the data with indents\n",
      " {\n",
      "    \"name\": \"John\",\n",
      "    \"age\": 31,\n",
      "    \"city\": \"New York\"\n",
      "}\n"
     ]
    }
   ],
   "source": [
    "print('Can also store the data with indents\\n',\\\n",
    "    json.dumps ( dict1, indent=4 ))"
   ]
  },
  {
   "cell_type": "code",
   "execution_count": 9,
   "metadata": {},
   "outputs": [
    {
     "name": "stdout",
     "output_type": "stream",
     "text": [
      "Is the content a json? True\n"
     ]
    }
   ],
   "source": [
    "import requests\n",
    "response = requests.get(\"https://jsonplaceholder.typicode.com/todos\")\n",
    "todos = json.loads(response.text)\n",
    "print('Is the content a json?',todos == response.json())"
   ]
  }
 ],
 "metadata": {
  "interpreter": {
   "hash": "63fd5069d213b44bf678585dea6b12cceca9941eaf7f819626cde1f2670de90d"
  },
  "kernelspec": {
   "display_name": "Python 3.9.0 64-bit",
   "language": "python",
   "name": "python3"
  },
  "language_info": {
   "codemirror_mode": {
    "name": "ipython",
    "version": 3
   },
   "file_extension": ".py",
   "mimetype": "text/x-python",
   "name": "python",
   "nbconvert_exporter": "python",
   "pygments_lexer": "ipython3",
   "version": "3.9.0"
  },
  "metadata": {
   "interpreter": {
    "hash": "63fd5069d213b44bf678585dea6b12cceca9941eaf7f819626cde1f2670de90d"
   }
  },
  "orig_nbformat": 2
 },
 "nbformat": 4,
 "nbformat_minor": 2
}
