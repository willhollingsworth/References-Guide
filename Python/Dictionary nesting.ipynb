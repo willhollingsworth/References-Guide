{
 "cells": [
  {
   "attachments": {},
   "cell_type": "markdown",
   "metadata": {},
   "source": [
    "Dictionaries can be nestled within themselves"
   ]
  },
  {
   "cell_type": "code",
   "execution_count": 9,
   "metadata": {},
   "outputs": [
    {
     "data": {
      "text/plain": [
       "{'a': 1, 'b': 2, 'c': 3, 'dict': {'d': 4, 'e': 5, 'f': 6}}"
      ]
     },
     "execution_count": 9,
     "metadata": {},
     "output_type": "execute_result"
    }
   ],
   "source": [
    "\n",
    "dict1 = {'a':1, 'b':2, 'c':3}\n",
    "dict2 = dict(d=4, e=5, f=6)\n",
    "dict1['dict'] = dict2\n",
    "dict1"
   ]
  },
  {
   "attachments": {},
   "cell_type": "markdown",
   "metadata": {},
   "source": [
    "Nestled items can be accessed by chaining either keys in square brackets\n",
    "or .get"
   ]
  },
  {
   "cell_type": "code",
   "execution_count": 14,
   "metadata": {},
   "outputs": [
    {
     "name": "stdout",
     "output_type": "stream",
     "text": [
      "{'a': 1, 'b': 2, 'c': 3, 'dict': {'d': 4, 'e': 5, 'f': 6, 'dict_2': {'g': 7, 'h': 8, 'i': 9}}}\n",
      "8\n",
      "8\n"
     ]
    }
   ],
   "source": [
    "dict3 = {'g':7, 'h':8, 'i':9}\n",
    "dict1['dict']['dict_2'] = dict3\n",
    "print(dict1)\n",
    "print(dict1['dict']['dict_2']['h'])\n",
    "print(dict1.get('dict').get('dict_2').get('h'))\n"
   ]
  },
  {
   "attachments": {},
   "cell_type": "markdown",
   "metadata": {},
   "source": [
    "a function can also be written to more cleanly access items using a single array\n",
    "This allows for more flexibility"
   ]
  },
  {
   "cell_type": "code",
   "execution_count": 16,
   "metadata": {},
   "outputs": [
    {
     "name": "stdout",
     "output_type": "stream",
     "text": [
      "8\n"
     ]
    }
   ],
   "source": [
    "def get_value(dict,keys):\n",
    "    for key in keys:\n",
    "        dict = dict[key]\n",
    "    return dict\n",
    "simple_array = ['dict','dict_2','h']\n",
    "print(get_value(dict1,simple_array))"
   ]
  }
 ],
 "metadata": {
  "kernelspec": {
   "display_name": "Python 3",
   "language": "python",
   "name": "python3"
  },
  "language_info": {
   "codemirror_mode": {
    "name": "ipython",
    "version": 3
   },
   "file_extension": ".py",
   "mimetype": "text/x-python",
   "name": "python",
   "nbconvert_exporter": "python",
   "pygments_lexer": "ipython3",
   "version": "3.9.0"
  },
  "orig_nbformat": 4
 },
 "nbformat": 4,
 "nbformat_minor": 2
}
