{
 "cells": [
  {
   "attachments": {},
   "cell_type": "markdown",
   "metadata": {},
   "source": [
    "https://regex101.com/\n",
    "\n",
    "https://regextutorial.org/positive-and-negative-lookahead-assertions.php\n",
    "\n",
    "https://www.regular-expressions.info/lookaround.html\n",
    "\n",
    "http://www.rexegg.com/regex-lookarounds.html\n"
   ]
  },
  {
   "cell_type": "code",
   "execution_count": 87,
   "metadata": {},
   "outputs": [],
   "source": [
    "import re\n",
    "test_strings = ['abc','123','ABC','a12','1234','Abc']"
   ]
  },
  {
   "cell_type": "code",
   "execution_count": 88,
   "metadata": {},
   "outputs": [],
   "source": [
    "def test_regex(regexp, test_list):\n",
    "    for string in test_strings:\n",
    "        if re.search(regexp,string):\n",
    "            print(string, 'yes')\n",
    "        else:\n",
    "            print(string,'no')\n"
   ]
  },
  {
   "cell_type": "code",
   "execution_count": 89,
   "metadata": {},
   "outputs": [
    {
     "name": "stdout",
     "output_type": "stream",
     "text": [
      "abc yes\n",
      "123 no\n",
      "ABC no\n",
      "a12 yes\n",
      "1234 no\n",
      "Abc yes\n"
     ]
    }
   ],
   "source": [
    "lower_case_check = '(?=[a-z]{1,})'\n",
    "test_regex(lower_case_check,test_strings)"
   ]
  },
  {
   "cell_type": "code",
   "execution_count": 90,
   "metadata": {},
   "outputs": [
    {
     "name": "stdout",
     "output_type": "stream",
     "text": [
      "abc no\n",
      "123 yes\n",
      "ABC no\n",
      "a12 yes\n",
      "1234 yes\n",
      "Abc no\n"
     ]
    }
   ],
   "source": [
    "number_check = '(?=[0-9]+)'\n",
    "test_regex(number_check,test_strings)"
   ]
  },
  {
   "cell_type": "code",
   "execution_count": 91,
   "metadata": {},
   "outputs": [
    {
     "name": "stdout",
     "output_type": "stream",
     "text": [
      "abc no\n",
      "123 no\n",
      "ABC no\n",
      "a12 yes\n",
      "1234 no\n",
      "Abc no\n"
     ]
    }
   ],
   "source": [
    "double_check = '(?=.*[0-9]+)(?=.*[a-z]+)'\n",
    "test_regex(double_check,test_strings)"
   ]
  }
 ],
 "metadata": {
  "kernelspec": {
   "display_name": "Python 3",
   "language": "python",
   "name": "python3"
  },
  "language_info": {
   "codemirror_mode": {
    "name": "ipython",
    "version": 3
   },
   "file_extension": ".py",
   "mimetype": "text/x-python",
   "name": "python",
   "nbconvert_exporter": "python",
   "pygments_lexer": "ipython3",
   "version": "3.7.1"
  },
  "orig_nbformat": 4,
  "vscode": {
   "interpreter": {
    "hash": "e0d18222694ae8738dd36c3cc4ba4170ae1f6ee1d532a92ed91acf6f8484f87f"
   }
  }
 },
 "nbformat": 4,
 "nbformat_minor": 2
}
