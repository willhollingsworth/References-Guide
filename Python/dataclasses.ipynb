{
 "cells": [
  {
   "attachments": {},
   "cell_type": "markdown",
   "metadata": {},
   "source": [
    "# Data Classes\n",
    "- https://realpython.com/python-data-classes/\n",
    "- https://peps.python.org/pep-0557/\n",
    "- https://www.geeksforgeeks.org/understanding-python-dataclasses/"
   ]
  },
  {
   "cell_type": "code",
   "execution_count": 20,
   "metadata": {},
   "outputs": [],
   "source": [
    "from dataclasses import dataclass"
   ]
  },
  {
   "attachments": {},
   "cell_type": "markdown",
   "metadata": {},
   "source": [
    "Dataclasses support type hinting, defaults and named args"
   ]
  },
  {
   "cell_type": "code",
   "execution_count": 21,
   "metadata": {},
   "outputs": [
    {
     "name": "stdout",
     "output_type": "stream",
     "text": [
      "Building(name='shops', size=1000, price=5000)  price = 5000\n",
      "Building(name='cafe', size=100, price=2000) default size = 100\n"
     ]
    }
   ],
   "source": [
    "@dataclass\n",
    "class Building:\n",
    "    name:str\n",
    "    size:float = 100\n",
    "    price:float = 1000\n",
    "shops = Building('shops',1000,5000)\n",
    "print(shops,' price =',shops.price)\n",
    "shop2 = Building('cafe',price=2000)\n",
    "print(shop2, 'default size =',shop2.size)"
   ]
  },
  {
   "attachments": {},
   "cell_type": "markdown",
   "metadata": {},
   "source": [
    "fields can defined later with 'init=false' , hidden when printed with 'repr'"
   ]
  },
  {
   "cell_type": "code",
   "execution_count": 23,
   "metadata": {},
   "outputs": [
    {
     "name": "stdout",
     "output_type": "stream",
     "text": [
      "Small_building(name='books', price=100)\n"
     ]
    }
   ],
   "source": [
    "from dataclasses import field\n",
    "@dataclass\n",
    "class Small_building:\n",
    "    name:str\n",
    "    price:int = 1000\n",
    "    id:int = field(init=False,repr=False)\n",
    "    \n",
    "book_store = Small_building('books',100)\n",
    "print(book_store)"
   ]
  }
 ],
 "metadata": {
  "kernelspec": {
   "display_name": "Python 3",
   "language": "python",
   "name": "python3"
  },
  "language_info": {
   "codemirror_mode": {
    "name": "ipython",
    "version": 3
   },
   "file_extension": ".py",
   "mimetype": "text/x-python",
   "name": "python",
   "nbconvert_exporter": "python",
   "pygments_lexer": "ipython3",
   "version": "3.9.0"
  },
  "orig_nbformat": 4
 },
 "nbformat": 4,
 "nbformat_minor": 2
}
