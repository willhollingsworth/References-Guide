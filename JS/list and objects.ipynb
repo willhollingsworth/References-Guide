{
 "cells": [
  {
   "cell_type": "code",
   "execution_count": 15,
   "metadata": {},
   "outputs": [],
   "source": [
    "var test_object = {'a':[1,2], 'b':[3,4], 'c':[4,5]}"
   ]
  },
  {
   "cell_type": "code",
   "execution_count": 16,
   "metadata": {},
   "outputs": [
    {
     "data": {
      "text/plain": [
       "[ [ 1, 2 ], [ 3, 4 ], [ 4, 5 ] ]"
      ]
     },
     "execution_count": 16,
     "metadata": {},
     "output_type": "execute_result"
    }
   ],
   "source": [
    "Object.values(test_object)"
   ]
  },
  {
   "cell_type": "code",
   "execution_count": 20,
   "metadata": {},
   "outputs": [
    {
     "name": "stdout",
     "output_type": "stream",
     "text": [
      "standard object loop - a : 1,2, b : 3,4, c : 4,5, \n"
     ]
    }
   ],
   "source": [
    "var test_string = '';\n",
    "for (x in test_object){\n",
    "    test_string += x + ' : ' + test_object[x] + ', '\n",
    "}\n",
    "console.log('standard object loop -',test_string)"
   ]
  },
  {
   "cell_type": "code",
   "execution_count": 25,
   "metadata": {},
   "outputs": [
    {
     "name": "stdout",
     "output_type": "stream",
     "text": [
      "convert the object into a list of it's values [ [ 1, 2 ], [ 3, 4 ], [ 4, 5 ] ]\n",
      "then run it through a loop\n",
      "[ 1, 2 ]   1   2\n",
      "[ 3, 4 ]   3   4\n",
      "[ 4, 5 ]   4   5\n"
     ]
    }
   ],
   "source": [
    "temp_array = Object.values(test_object)\n",
    "console.log('convert the object into a list of it\\'s values',temp_array)\n",
    "console.log('then run it through a loop')\n",
    "for (x of temp_array){\n",
    "    console.log(x,' ',x[0],' ',x[1])\n",
    "}"
   ]
  },
  {
   "cell_type": "code",
   "execution_count": null,
   "metadata": {},
   "outputs": [],
   "source": []
  }
 ],
 "metadata": {
  "kernelspec": {
   "display_name": "Javascript (Node.js)",
   "language": "javascript",
   "name": "javascript"
  },
  "language_info": {
   "file_extension": ".js",
   "mimetype": "application/javascript",
   "name": "javascript",
   "version": "12.19.0"
  },
  "orig_nbformat": 4
 },
 "nbformat": 4,
 "nbformat_minor": 2
}
