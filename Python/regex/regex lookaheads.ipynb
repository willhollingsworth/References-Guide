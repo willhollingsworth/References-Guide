{
 "cells": [
  {
   "attachments": {},
   "cell_type": "markdown",
   "metadata": {},
   "source": [
    "https://regex101.com/\n",
    "\n",
    "http://www.rexegg.com/regex-lookarounds.html\n",
    "\n",
    "https://regextutorial.org/positive-and-negative-lookahead-assertions.php\n",
    "\n",
    "https://www.regular-expressions.info/lookaround.html\n"
   ]
  },
  {
   "cell_type": "code",
   "execution_count": 14,
   "metadata": {},
   "outputs": [],
   "source": [
    "import re\n",
    "test_strings = ['abc','123','ABC','a12','1234','Abc','Aa12']"
   ]
  },
  {
   "cell_type": "code",
   "execution_count": 15,
   "metadata": {},
   "outputs": [],
   "source": [
    "def test_regex(regexp, test_list):\n",
    "    out_list = []\n",
    "    for string in test_strings:\n",
    "        if re.search(regexp,string):\n",
    "            out_list.append(string+ ': yes')\n",
    "        else:\n",
    "            out_list.append(string+ ': no')\n",
    "    \n",
    "    return ' '.join(out_list)"
   ]
  },
  {
   "cell_type": "code",
   "execution_count": 16,
   "metadata": {},
   "outputs": [
    {
     "data": {
      "text/plain": [
       "'abc: yes 123: no ABC: no a12: yes 1234: no Abc: yes Aa12: yes'"
      ]
     },
     "execution_count": 16,
     "metadata": {},
     "output_type": "execute_result"
    }
   ],
   "source": [
    "lower_case_check = '(?=[a-z]{1,})'\n",
    "test_regex(lower_case_check,test_strings)"
   ]
  },
  {
   "cell_type": "code",
   "execution_count": 17,
   "metadata": {},
   "outputs": [
    {
     "data": {
      "text/plain": [
       "'abc: no 123: yes ABC: no a12: yes 1234: yes Abc: no Aa12: yes'"
      ]
     },
     "execution_count": 17,
     "metadata": {},
     "output_type": "execute_result"
    }
   ],
   "source": [
    "number_check = '(?=[0-9]+)'\n",
    "test_regex(number_check,test_strings)"
   ]
  },
  {
   "cell_type": "code",
   "execution_count": 18,
   "metadata": {},
   "outputs": [
    {
     "data": {
      "text/plain": [
       "'abc: no 123: no ABC: no a12: yes 1234: no Abc: no Aa12: yes'"
      ]
     },
     "execution_count": 18,
     "metadata": {},
     "output_type": "execute_result"
    }
   ],
   "source": [
    "double_check = '(?=.*[0-9]+)(?=.*[a-z]+)'\n",
    "test_regex(double_check,test_strings)"
   ]
  },
  {
   "cell_type": "code",
   "execution_count": 19,
   "metadata": {},
   "outputs": [
    {
     "data": {
      "text/plain": [
       "'abc: no 123: no ABC: no a12: no 1234: no Abc: no Aa12: yes'"
      ]
     },
     "execution_count": 19,
     "metadata": {},
     "output_type": "execute_result"
    }
   ],
   "source": [
    "# Tuples can be used to separate regex into multi lines\n",
    "multi_check = (\n",
    "'(?=.*[0-9]+)'\n",
    "'(?=.*[a-z]+)'\n",
    "'(?=.*[A-Z]+)'\n",
    ")\n",
    "test_regex(multi_check,test_strings)"
   ]
  },
  {
   "cell_type": "code",
   "execution_count": 21,
   "metadata": {},
   "outputs": [
    {
     "data": {
      "text/plain": [
       "'abc: no 123: no ABC: no a12: no 1234: no Abc: no Aa12: yes'"
      ]
     },
     "execution_count": 21,
     "metadata": {},
     "output_type": "execute_result"
    }
   ],
   "source": [
    "# re.compile  can also be used \n",
    "multi_check2 = re.compile( '''\n",
    "(?=.*[0-9]+)\n",
    "(?=.*[a-z]+)\n",
    "(?=.*[A-Z]+)\n",
    "''',re.VERBOSE)\n",
    "test_regex(multi_check2,test_strings)"
   ]
  }
 ],
 "metadata": {
  "kernelspec": {
   "display_name": "Python 3",
   "language": "python",
   "name": "python3"
  },
  "language_info": {
   "codemirror_mode": {
    "name": "ipython",
    "version": 3
   },
   "file_extension": ".py",
   "mimetype": "text/x-python",
   "name": "python",
   "nbconvert_exporter": "python",
   "pygments_lexer": "ipython3",
   "version": "3.7.1"
  },
  "orig_nbformat": 4,
  "vscode": {
   "interpreter": {
    "hash": "e0d18222694ae8738dd36c3cc4ba4170ae1f6ee1d532a92ed91acf6f8484f87f"
   }
  }
 },
 "nbformat": 4,
 "nbformat_minor": 2
}
