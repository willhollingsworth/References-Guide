{
 "cells": [
  {
   "attachments": {},
   "cell_type": "markdown",
   "metadata": {},
   "source": [
    "https://www.programiz.com/python-programming/dictionary-comprehension"
   ]
  },
  {
   "cell_type": "code",
   "execution_count": 15,
   "metadata": {},
   "outputs": [
    {
     "name": "stdout",
     "output_type": "stream",
     "text": [
      "building a simple dict  {0: 0, 1: 2, 2: 4, 3: 6}\n"
     ]
    }
   ],
   "source": [
    "print('building a simple dict ', { x : x*2 for x in range(4) }   )"
   ]
  },
  {
   "cell_type": "code",
   "execution_count": 16,
   "metadata": {},
   "outputs": [
    {
     "name": "stdout",
     "output_type": "stream",
     "text": [
      "flipping a dictionary {1: 'a', 2: 'b', 3: 'c'}\n",
      "working on a key value pair {'#b': 4, '#c': 6}\n"
     ]
    }
   ],
   "source": [
    "test_dict = {'a':1,'b':2,'c':3}\n",
    "print('flipping a dictionary', { v:k for k,v in test_dict.items() })\n",
    "print('working on a key value pair', { '#' + k : v * 2 for k,v in test_dict.items() if v > 1 })"
   ]
  }
 ],
 "metadata": {
  "kernelspec": {
   "display_name": "Python 3",
   "language": "python",
   "name": "python3"
  },
  "language_info": {
   "codemirror_mode": {
    "name": "ipython",
    "version": 3
   },
   "file_extension": ".py",
   "mimetype": "text/x-python",
   "name": "python",
   "nbconvert_exporter": "python",
   "pygments_lexer": "ipython3",
   "version": "3.9.0"
  },
  "orig_nbformat": 2
 },
 "nbformat": 4,
 "nbformat_minor": 2
}
