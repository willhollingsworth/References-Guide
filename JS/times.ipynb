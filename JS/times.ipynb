{
 "cells": [
  {
   "cell_type": "code",
   "execution_count": 73,
   "metadata": {},
   "outputs": [
    {
     "name": "stdout",
     "output_type": "stream",
     "text": [
      "[\n",
      "  'Sun',         'Jan',\n",
      "  '02',          '2022',\n",
      "  '17:46:57',    'GMT+1030',\n",
      "  '(Australian', 'Central',\n",
      "  'Daylight',    'Time)'\n",
      "]\n",
      "17:46:57 string\n"
     ]
    }
   ],
   "source": [
    "console.log(Date().split(' '))\n",
    "small_time = Date().split(' ')[4]\n",
    "console.log(small_time,typeof small_time)"
   ]
  },
  {
   "cell_type": "code",
   "execution_count": 74,
   "metadata": {},
   "outputs": [
    {
     "name": "stdout",
     "output_type": "stream",
     "text": [
      "string object\n"
     ]
    }
   ],
   "source": [
    "// typeof small_time\n",
    "d1 = new Date()\n",
    "console.log(typeof Date(),typeof d1)\n"
   ]
  },
  {
   "cell_type": "code",
   "execution_count": 81,
   "metadata": {},
   "outputs": [
    {
     "name": "stdout",
     "output_type": "stream",
     "text": [
      "seconds between this cell and the one above :  3.06\n"
     ]
    }
   ],
   "source": [
    "seconds_difference = new Date()/1000 - d1/1000\n",
    "console.log('seconds between this cell and the one above : ',seconds_difference.toFixed(2))"
   ]
  }
 ],
 "metadata": {
  "kernelspec": {
   "display_name": "Javascript (Node.js)",
   "language": "javascript",
   "name": "javascript"
  },
  "language_info": {
   "file_extension": ".js",
   "mimetype": "application/javascript",
   "name": "javascript",
   "version": "12.19.0"
  },
  "orig_nbformat": 4
 },
 "nbformat": 4,
 "nbformat_minor": 2
}
