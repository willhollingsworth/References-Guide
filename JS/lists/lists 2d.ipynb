{
 "cells": [
  {
   "cell_type": "markdown",
   "metadata": {},
   "source": [
    "https://www.programiz.com/javascript/multidimensional-array"
   ]
  },
  {
   "cell_type": "code",
   "execution_count": 18,
   "metadata": {},
   "outputs": [
    {
     "data": {
      "text/plain": [
       "[ 0, 1, 2, 3, 4 ]"
      ]
     },
     "execution_count": 18,
     "metadata": {},
     "output_type": "execute_result"
    }
   ],
   "source": [
    "list1 = [...Array(5).keys()]"
   ]
  },
  {
   "cell_type": "code",
   "execution_count": 19,
   "metadata": {},
   "outputs": [
    {
     "data": {
      "text/plain": [
       "[\n",
       "  [ 0, 1, 2, 3, 4 ],\n",
       "  [ 0, 1, 2, 3, 4 ],\n",
       "  [ 0, 1, 2, 3, 4 ],\n",
       "  [ 0, 1, 2, 3, 4 ],\n",
       "  [ 0, 1, 2, 3, 4 ]\n",
       "]"
      ]
     },
     "execution_count": 19,
     "metadata": {},
     "output_type": "execute_result"
    }
   ],
   "source": [
    "list2 = []\n",
    "for (i of list1){\n",
    "    list2[i] = [...Array(5).keys()]\n",
    "}\n",
    "list2"
   ]
  },
  {
   "cell_type": "code",
   "execution_count": 20,
   "metadata": {},
   "outputs": [
    {
     "data": {
      "text/plain": [
       "[\n",
       "  [ 6, 7, 4, 7, 3 ],\n",
       "  [ 9, 7, 1, 3, 8 ],\n",
       "  [ 2, 9, 3, 2, 7 ],\n",
       "  [ 3, 4, 1, 8, 9 ],\n",
       "  [ 0, 6, 2, 5, 1 ]\n",
       "]"
      ]
     },
     "execution_count": 20,
     "metadata": {},
     "output_type": "execute_result"
    }
   ],
   "source": [
    "function rand(){\n",
    "    return Math.floor(Math.random()*10)}\n",
    "list3 = []\n",
    "for (x of list1){           // loop over each line\n",
    "    list3[x] =[]            // create new empty list\n",
    "    for (y of list1){       // loop over each column\n",
    "        list3[x][y] = rand()  // write directly to each value\n",
    "    }\n",
    "}\n",
    "list3"
   ]
  },
  {
   "cell_type": "code",
   "execution_count": 21,
   "metadata": {},
   "outputs": [
    {
     "data": {
      "text/plain": [
       "[\n",
       "  [ 2, 9, 3, 2, 7 ],\n",
       "  [ 9, 7, 1, 3, 8 ],\n",
       "  [ 0, 6, 2, 5, 1 ],\n",
       "  [ 6, 7, 4, 7, 3 ],\n",
       "  [ 3, 4, 1, 8, 9 ]\n",
       "]"
      ]
     },
     "execution_count": 21,
     "metadata": {},
     "output_type": "execute_result"
    }
   ],
   "source": [
    "list3.sort((a, b) => a[3] - b[3]);\n",
    "console.log('sort by 4th element'\n",
    ")\n",
    "list3"
   ]
  }
 ],
 "metadata": {
  "kernelspec": {
   "display_name": "Javascript (Node.js)",
   "language": "javascript",
   "name": "javascript"
  },
  "language_info": {
   "file_extension": ".js",
   "mimetype": "application/javascript",
   "name": "javascript",
   "version": "12.19.0"
  },
  "orig_nbformat": 4
 },
 "nbformat": 4,
 "nbformat_minor": 2
}
