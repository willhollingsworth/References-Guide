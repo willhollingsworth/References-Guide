{
 "cells": [
  {
   "cell_type": "code",
   "execution_count": 30,
   "metadata": {},
   "outputs": [],
   "source": [
    "/* \n",
    "Lists are also known as arrays\n",
    "\n",
    "https://developer.mozilla.org/en-US/docs/Web/JavaScript/Reference/Global_Objects/Array\n",
    "https://alligator.io/js/push-pop-shift-unshift-array-methods/\n",
    "https://stackoverflow.com/questions/3895478/does-javascript-have-a-method-like-range-to-generate-a-range-within-the-supp\n",
    "pop() remove last element, returns it.\n",
    "push() add element to end, returns new length.\n",
    "shift() remove first element, returns it.\n",
    "unshift() add element to the start, returns new length.\n",
    "*/"
   ]
  },
  {
   "cell_type": "code",
   "execution_count": 31,
   "metadata": {},
   "outputs": [
    {
     "data": {
      "text/plain": [
       "[ 1, 2, 3 ]"
      ]
     },
     "execution_count": 31,
     "metadata": {},
     "output_type": "execute_result"
    }
   ],
   "source": [
    "var list = [1,2,3];\n",
    "list"
   ]
  },
  {
   "cell_type": "code",
   "execution_count": 32,
   "metadata": {},
   "outputs": [
    {
     "data": {
      "text/plain": [
       "[ 0, 1, 2, 3, 4 ]"
      ]
     },
     "execution_count": 32,
     "metadata": {},
     "output_type": "execute_result"
    }
   ],
   "source": [
    "// build a range of numbers\n",
    "[...Array(5).keys()];\n"
   ]
  },
  {
   "cell_type": "code",
   "execution_count": 33,
   "metadata": {},
   "outputs": [
    {
     "name": "stdout",
     "output_type": "stream",
     "text": [
      "access an element 1\n",
      "length 3\n",
      "add items with push [ 1, 2, 3, 4 ]\n",
      "add multiple items with push [ 1, 2, 3, 4, 5, 6 ]\n"
     ]
    }
   ],
   "source": [
    "console.log('access an element', list[0]);\n",
    "console.log('length', list.length);\n",
    "list.push(4)\n",
    "console.log('add items with push', list);\n",
    "list.push(...[5,6])\n",
    "console.log('add multiple items with push', list);\n"
   ]
  }
 ],
 "metadata": {
  "kernelspec": {
   "display_name": "Javascript (Node.js)",
   "language": "javascript",
   "name": "javascript"
  },
  "language_info": {
   "file_extension": ".js",
   "mimetype": "application/javascript",
   "name": "javascript",
   "version": "12.19.0"
  },
  "orig_nbformat": 2
 },
 "nbformat": 4,
 "nbformat_minor": 2
}
