{
 "cells": [
  {
   "cell_type": "markdown",
   "metadata": {},
   "source": [
    "JS objects seem very similar to python dictionaries\n",
    "\n",
    "https://www.w3schools.com/js/js_objects.asp\n",
    "\n",
    "https://developer.mozilla.org/en-US/docs/Web/JavaScript/Reference/Global_Objects/Object\n",
    "\n",
    "https://javascript.info/object-basics"
   ]
  },
  {
   "cell_type": "code",
   "execution_count": 32,
   "metadata": {},
   "outputs": [],
   "source": [
    "//initial creation of test object aka tob\n",
    "var tob = {\n",
    "  \"hats\": 5,\n",
    "  \"shirts\": 3,\n",
    "  \"shoes\": 6\n",
    "};"
   ]
  },
  {
   "cell_type": "code",
   "execution_count": 33,
   "metadata": {},
   "outputs": [
    {
     "name": "stdout",
     "output_type": "stream",
     "text": [
      "initial object { hats: 5, shirts: 3, shoes: 6 }\n",
      "reading values  5 6 3\n",
      "changing values  55 33\n",
      "adding item  { hats: 55, shirts: 33, shoes: 6, pants: 9 }\n",
      "deleting item  { shirts: 33, shoes: 6, pants: 9 }\n",
      "check if items exist  true false\n"
     ]
    }
   ],
   "source": [
    "console.log('initial object',tob)\n",
    "console.log('reading values ', tob.hats,  tob.shoes, tob['shirts']);\n",
    "\n",
    "tob.hats = 55; tob['shirts'] = 33;\n",
    "console.log('changing values ', tob['hats'],tob.shirts)\n",
    "\n",
    "tob.pants = 9\n",
    "console.log('adding item ',tob)\n",
    "\n",
    "delete tob.hats;\n",
    "console.log('deleting item ',tob)\n",
    "\n",
    "console.log('check if items exist ', tob.hasOwnProperty('shirts'), tob.hasOwnProperty('socks'))"
   ]
  },
  {
   "cell_type": "code",
   "execution_count": 34,
   "metadata": {},
   "outputs": [
    {
     "name": "stdout",
     "output_type": "stream",
     "text": [
      "multi layer values { '99': 88 }\n",
      "{ '55': 33 }     green\n"
     ]
    }
   ],
   "source": [
    "var bigobj = {'a':{1:2,2:3,4:{99:88}},\n",
    "'b':{7:6,5:4,3:{55:33},'blue':'green'}}\n",
    "console.log('multi layer values',bigobj.a[4])\n",
    "console.log(bigobj['b'][3], '   ' ,bigobj.b.blue)"
   ]
  },
  {
   "cell_type": "code",
   "execution_count": 35,
   "metadata": {},
   "outputs": [
    {
     "name": "stdout",
     "output_type": "stream",
     "text": [
      "original { shirts: 33, shoes: 6, pants: 9 }\n",
      "show keys - [ 'shirts', 'shoes', 'pants' ]\n",
      "show values - [ 33, 6, 9 ]\n",
      "convert from object to list - [ [ 'shirts', 33 ], [ 'shoes', 6 ], [ 'pants', 9 ] ]\n"
     ]
    }
   ],
   "source": [
    "console.log('original',tob)\n",
    "console.log('show keys -',Object.keys(tob))\n",
    "console.log('show values -',Object.values(tob))\n",
    "console.log('convert from object to list -',Object.entries(tob))"
   ]
  },
  {
   "cell_type": "code",
   "execution_count": 36,
   "metadata": {},
   "outputs": [
    {
     "name": "stdout",
     "output_type": "stream",
     "text": [
      "combine multiple objects using assign { name: 'John', age: '30', gender: 'male' }\n"
     ]
    }
   ],
   "source": [
    "// https://javascript.info/object-copy#cloning-and-merging-object-assign\n",
    "var obj1 = {'name':'John'},\n",
    "    obj2 = {'age':'30'},\n",
    "    obj3 = {'gender':'male'};\n",
    "Object.assign(obj1,obj2,obj3);\n",
    "console.log('combine multiple objects using assign',obj1);"
   ]
  },
  {
   "cell_type": "code",
   "execution_count": 4,
   "metadata": {},
   "outputs": [
    {
     "name": "stdout",
     "output_type": "stream",
     "text": [
      "{ a: [ 7, 8 ], b: [ 44, 4 ], c: [ 5, 6 ] }\n"
     ]
    }
   ],
   "source": [
    "// 2d lists\n",
    "two_d_obj = {'a': [1,2],'b':[3,4],'c':[5,6]}\n",
    "two_d_obj['a'] = [7,8]\n",
    "two_d_obj['b'][0] = 44\n",
    "\n",
    "\n",
    "console.log(two_d_obj)\n",
    "\n"
   ]
  }
 ],
 "metadata": {
  "kernelspec": {
   "display_name": "Javascript (Node.js)",
   "language": "javascript",
   "name": "javascript"
  },
  "language_info": {
   "file_extension": ".js",
   "mimetype": "application/javascript",
   "name": "javascript",
   "version": "12.19.0"
  },
  "orig_nbformat": 2
 },
 "nbformat": 4,
 "nbformat_minor": 2
}
