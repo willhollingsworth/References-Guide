{
 "cells": [
  {
   "cell_type": "code",
   "execution_count": 2,
   "id": "4b647af5",
   "metadata": {
    "dotnet_interactive": {
     "language": "csharp"
    },
    "polyglot_notebook": {
     "kernelName": "csharp"
    },
    "vscode": {
     "languageId": "polyglot-notebook"
    }
   },
   "outputs": [
    {
     "name": "stdout",
     "output_type": "stream",
     "text": [
      "Simple print statement\r\n"
     ]
    }
   ],
   "source": [
    "Console.WriteLine(\"Simple print statement\");"
   ]
  },
  {
   "cell_type": "code",
   "execution_count": 3,
   "id": "cbc29608",
   "metadata": {
    "vscode": {
     "languageId": "polyglot-notebook"
    }
   },
   "outputs": [
    {
     "data": {
      "text/plain": [
       "true"
      ]
     },
     "metadata": {},
     "output_type": "display_data"
    }
   ],
   "source": [
    "double num1 = 2;\n",
    "string msg = \"\";\n",
    "if (num1 > 1)\n",
    "{\n",
    "   msg = \"true\" ;\n",
    "    \n",
    "}\n",
    "else\n",
    "{\n",
    "    msg = \"flase\";\n",
    "}\n",
    "\n",
    "msg"
   ]
  },
  {
   "cell_type": "code",
   "execution_count": 4,
   "id": "614b94e7",
   "metadata": {
    "dotnet_interactive": {
     "language": "csharp"
    },
    "polyglot_notebook": {
     "kernelName": "csharp"
    },
    "vscode": {
     "languageId": "polyglot-notebook"
    }
   },
   "outputs": [
    {
     "data": {
      "text/plain": [
       "two"
      ]
     },
     "metadata": {},
     "output_type": "display_data"
    }
   ],
   "source": [
    "switch (num1)\n",
    "{\n",
    "    case 1:\n",
    "        msg = \"one\";\n",
    "        break;\n",
    "    case 2:\n",
    "        msg = \"two\";\n",
    "        break;  \n",
    "    default:\n",
    "        msg = \"default\";\n",
    "        break;\n",
    "}\n",
    "msg"
   ]
  }
 ],
 "metadata": {
  "kernelspec": {
   "display_name": ".NET (C#)",
   "language": "C#",
   "name": ".net-csharp"
  },
  "language_info": {
   "file_extension": ".cs",
   "mimetype": "text/x-csharp",
   "name": "C#",
   "pygments_lexer": "csharp",
   "version": "12.0"
  },
  "polyglot_notebook": {
   "kernelInfo": {
    "defaultKernelName": "csharp",
    "items": [
     {
      "aliases": [],
      "name": "csharp"
     }
    ]
   }
  }
 },
 "nbformat": 4,
 "nbformat_minor": 5
}
