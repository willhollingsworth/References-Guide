{
 "cells": [
  {
   "cell_type": "markdown",
   "metadata": {},
   "source": [
    "JS objects seem very similar to python dictionaries\n",
    "\n",
    "https://developer.mozilla.org/en-US/docs/Web/JavaScript/Reference/Global_Objects/Object"
   ]
  },
  {
   "cell_type": "code",
   "execution_count": 6,
   "metadata": {},
   "outputs": [],
   "source": [
    "//initial creation of test object aka tob\n",
    "var tob = {\n",
    "  \"hats\": 5,\n",
    "  \"shirts\": 3,\n",
    "  \"shoes\": 6\n",
    "};"
   ]
  },
  {
   "cell_type": "code",
   "execution_count": 7,
   "metadata": {},
   "outputs": [
    {
     "name": "stdout",
     "output_type": "stream",
     "text": [
      "initial object { hats: 5, shirts: 3, shoes: 6 }\n",
      "reading values  5 6 3\n",
      "changing values  55 33\n",
      "adding item  { hats: 55, shirts: 33, shoes: 6, pants: 9 }\n",
      "deleting item  { shirts: 33, shoes: 6, pants: 9 }\n",
      "check if items exist  true false\n"
     ]
    }
   ],
   "source": [
    "console.log('initial object',tob)\n",
    "console.log('reading values ', tob.hats,  tob.shoes, tob['shirts']);\n",
    "\n",
    "tob.hats = 55; tob['shirts'] = 33;\n",
    "console.log('changing values ', tob['hats'],tob.shirts)\n",
    "\n",
    "tob.pants = 9\n",
    "console.log('adding item ',tob)\n",
    "\n",
    "delete tob.hats;\n",
    "console.log('deleting item ',tob)\n",
    "\n",
    "console.log('check if items exist ', tob.hasOwnProperty('shirts'), tob.hasOwnProperty('socks'))"
   ]
  },
  {
   "cell_type": "code",
   "execution_count": 8,
   "metadata": {},
   "outputs": [
    {
     "name": "stdout",
     "output_type": "stream",
     "text": [
      "multi layer values { '99': 88 }\n",
      "{ '55': 33 }     green\n"
     ]
    }
   ],
   "source": [
    "var bigobj = {'a':{1:2,2:3,4:{99:88}},\n",
    "'b':{7:6,5:4,3:{55:33},'blue':'green'}}\n",
    "console.log('multi layer values',bigobj.a[4])\n",
    "console.log(bigobj['b'][3], '   ' ,bigobj.b.blue)"
   ]
  },
  {
   "cell_type": "code",
   "execution_count": 15,
   "metadata": {},
   "outputs": [
    {
     "name": "stdout",
     "output_type": "stream",
     "text": [
      "show keys - [ 'shirts', 'shoes', 'pants' ]\n",
      "show values - [ 33, 6, 9 ]\n"
     ]
    }
   ],
   "source": [
    "console.log('show keys -',Object.keys(tob))\n",
    "console.log('show values -',Object.values(tob))"
   ]
  }
 ],
 "metadata": {
  "kernelspec": {
   "display_name": "Javascript (Node.js)",
   "language": "javascript",
   "name": "javascript"
  },
  "language_info": {
   "file_extension": ".js",
   "mimetype": "application/javascript",
   "name": "javascript",
   "version": "12.19.0"
  },
  "orig_nbformat": 2
 },
 "nbformat": 4,
 "nbformat_minor": 2
}
