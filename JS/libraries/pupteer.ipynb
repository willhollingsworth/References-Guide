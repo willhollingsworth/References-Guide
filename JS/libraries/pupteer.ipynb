{
 "cells": [
  {
   "cell_type": "markdown",
   "metadata": {},
   "source": [
    "video https://developers.google.com/web/tools/puppeteer\n",
    "official docs https://www.npmjs.com/package/puppeteer"
   ]
  },
  {
   "cell_type": "code",
   "execution_count": 8,
   "metadata": {},
   "outputs": [],
   "source": [
    "var puppeteer = require('puppeteer');\n",
    "var fs = require('fs')\n",
    "var path = require('path')\n",
    "var html = fs.readFileSync(path.resolve(__dirname, 'example.html'), 'utf8')"
   ]
  },
  {
   "cell_type": "code",
   "execution_count": 7,
   "metadata": {},
   "outputs": [],
   "source": [
    "(async () => {\n",
    "  const browser = await puppeteer.launch({headless: false});\n",
    "  const page = await browser.newPage();\n",
    "  await page.goto('https://example.com');\n",
    "  await page.screenshot({ path: 'example.png' });\n",
    "  await browser.close();\n",
    "})();"
   ]
  },
  {
   "cell_type": "code",
   "execution_count": 1,
   "metadata": {},
   "outputs": [
    {
     "ename": "ReferenceError",
     "evalue": "puppeteer is not defined",
     "output_type": "error",
     "traceback": [
      "ReferenceError: puppeteer is not defined",
      "    at evalmachine.<anonymous>:2:19",
      "    at evalmachine.<anonymous>:8:3",
      "    at Script.runInThisContext (vm.js:120:18)",
      "    at Object.runInThisContext (vm.js:309:38)",
      "    at run ([eval]:1054:15)",
      "    at onRunRequest ([eval]:888:18)",
      "    at onMessage ([eval]:848:13)",
      "    at process.emit (events.js:314:20)",
      "    at emit (internal/child_process.js:876:12)",
      "    at processTicksAndRejections (internal/process/task_queues.js:85:21)"
     ]
    }
   ],
   "source": [
    "(async () => {\n",
    "  const browser = await puppeteer.launch({headless: false});\n",
    "  const page = await browser.newPage();\n",
    "  await page.goto('https://example.com');\n",
    "  const html = await page.content();\n",
    "  console.log(html);\n",
    "  await browser.close();\n",
    "})();"
   ]
  },
  {
   "cell_type": "code",
   "execution_count": null,
   "metadata": {},
   "outputs": [],
   "source": []
  }
 ],
 "metadata": {
  "kernelspec": {
   "display_name": "Javascript (Node.js)",
   "language": "javascript",
   "name": "javascript"
  },
  "language_info": {
   "file_extension": ".js",
   "mimetype": "application/javascript",
   "name": "javascript",
   "version": "12.19.0"
  },
  "orig_nbformat": 2
 },
 "nbformat": 4,
 "nbformat_minor": 2
}
