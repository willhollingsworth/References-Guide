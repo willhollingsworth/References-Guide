{
 "cells": [
  {
   "cell_type": "markdown",
   "metadata": {},
   "source": [
    "Filtering an object \n",
    "\n",
    "https://sebhastian.com/javascript-filter-object/\n",
    "\n",
    "https://masteringjs.io/tutorials/fundamentals/filter-object"
   ]
  },
  {
   "cell_type": "code",
   "execution_count": 11,
   "metadata": {},
   "outputs": [
    {
     "name": "stdout",
     "output_type": "stream",
     "text": [
      "original object { hats: 5, shirts: 3, shoes: 6 }\n",
      "convert to list [ [ 'hats', 5 ], [ 'shirts', 3 ], [ 'shoes', 6 ] ]\n",
      "filter: is second element greater than 4?\n",
      "filter list [ [ 'hats', 5 ], [ 'shoes', 6 ] ]\n",
      "filtered object { hats: 5, shoes: 6 }\n"
     ]
    }
   ],
   "source": [
    "\n",
    "var obj = {\n",
    "    \"hats\": 5,\n",
    "    \"shirts\": 3,\n",
    "    \"shoes\": 6\n",
    "  };\n",
    "console.log('original object',obj)\n",
    "var temp_list = Object.entries(obj)\n",
    "console.log('convert to list',temp_list)\n",
    "var filtered_list = temp_list.filter(num => num[1] > 4)\n",
    "console.log('filter: is second element greater than 4?')\n",
    "console.log('filtered list',filtered_list)\n",
    "var filtered_obj = Object.fromEntries(filtered_list)\n",
    "console.log('filtered object',filtered_obj)"
   ]
  }
 ],
 "metadata": {
  "kernelspec": {
   "display_name": "Javascript (Node.js)",
   "language": "javascript",
   "name": "javascript"
  },
  "language_info": {
   "file_extension": ".js",
   "mimetype": "application/javascript",
   "name": "javascript",
   "version": "12.19.0"
  },
  "orig_nbformat": 4
 },
 "nbformat": 4,
 "nbformat_minor": 2
}
