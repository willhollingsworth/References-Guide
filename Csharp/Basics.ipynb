{
 "cells": [
  {
   "cell_type": "code",
   "execution_count": 9,
   "id": "4b647af5",
   "metadata": {
    "dotnet_interactive": {
     "language": "csharp"
    },
    "polyglot_notebook": {
     "kernelName": "csharp"
    },
    "vscode": {
     "languageId": "polyglot-notebook"
    }
   },
   "outputs": [
    {
     "name": "stdout",
     "output_type": "stream",
     "text": [
      "Simple print statement\r\n"
     ]
    }
   ],
   "source": [
    "Console.WriteLine(\"Simple print statement\");"
   ]
  },
  {
   "cell_type": "code",
   "execution_count": 10,
   "id": "cbc29608",
   "metadata": {
    "dotnet_interactive": {
     "language": "csharp"
    },
    "polyglot_notebook": {
     "kernelName": "csharp"
    },
    "vscode": {
     "languageId": "polyglot-notebook"
    }
   },
   "outputs": [
    {
     "data": {
      "text/plain": [
       "true"
      ]
     },
     "metadata": {},
     "output_type": "display_data"
    }
   ],
   "source": [
    "double num1 = 2;\n",
    "int num2;\n",
    "string msg = \"\";\n",
    "if (num1 > 1)\n",
    "{\n",
    "   msg = \"true\" ;\n",
    "    \n",
    "}\n",
    "else\n",
    "{\n",
    "    msg = \"flase\";\n",
    "}\n",
    "\n",
    "msg"
   ]
  },
  {
   "cell_type": "code",
   "execution_count": 11,
   "id": "614b94e7",
   "metadata": {
    "dotnet_interactive": {
     "language": "csharp"
    },
    "polyglot_notebook": {
     "kernelName": "csharp"
    },
    "vscode": {
     "languageId": "polyglot-notebook"
    }
   },
   "outputs": [
    {
     "data": {
      "text/plain": [
       "two"
      ]
     },
     "metadata": {},
     "output_type": "display_data"
    }
   ],
   "source": [
    "switch (num1)\n",
    "{\n",
    "    case 1:\n",
    "        msg = \"one\";\n",
    "        break;\n",
    "    case 2:\n",
    "        msg = \"two\";\n",
    "        break;  \n",
    "    default:\n",
    "        msg = \"3\";\n",
    "        break;\n",
    "}\n",
    "msg"
   ]
  },
  {
   "cell_type": "code",
   "execution_count": 12,
   "id": "c69d6789",
   "metadata": {
    "vscode": {
     "languageId": "polyglot-notebook"
    }
   },
   "outputs": [
    {
     "name": "stdout",
     "output_type": "stream",
     "text": [
      "Can't turn msg into an int\r\n"
     ]
    }
   ],
   "source": [
    "try\n",
    "{\n",
    "    num2 = int.Parse(msg);\n",
    "    Console.WriteLine(\"turned msg into an int\");\n",
    "}\n",
    "catch\n",
    "{\n",
    "    Console.WriteLine(\"Can't turn msg into an int\"); \n",
    "}\n"
   ]
  }
 ],
 "metadata": {
  "kernelspec": {
   "display_name": ".NET (C#)",
   "language": "C#",
   "name": ".net-csharp"
  },
  "language_info": {
   "file_extension": ".cs",
   "mimetype": "text/x-csharp",
   "name": "C#",
   "pygments_lexer": "csharp",
   "version": "12.0"
  },
  "polyglot_notebook": {
   "kernelInfo": {
    "defaultKernelName": "csharp",
    "items": [
     {
      "aliases": [],
      "name": "csharp"
     }
    ]
   }
  }
 },
 "nbformat": 4,
 "nbformat_minor": 5
}
